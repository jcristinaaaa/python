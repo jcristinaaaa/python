{
 "cells": [
  {
   "cell_type": "code",
   "execution_count": 1,
   "metadata": {},
   "outputs": [],
   "source": [
    "import pandas as pd\n",
    "import numpy as np\n",
    "import matplotlib.pyplot as plt\n",
    "%matplotlib inline\n",
    "#改变plt里的默认设置\n",
    "#改变默认字体\n",
    "plt.rcParams['font.sans-serif'] = ['Simhei']\n",
    "#改成黑体后编码的模式不改变\n",
    "plt.rcParams['axes.unicode_minus'] = False"
   ]
  },
  {
   "cell_type": "code",
   "execution_count": 2,
   "metadata": {},
   "outputs": [
    {
     "data": {
      "text/html": [
       "<div>\n",
       "<style scoped>\n",
       "    .dataframe tbody tr th:only-of-type {\n",
       "        vertical-align: middle;\n",
       "    }\n",
       "\n",
       "    .dataframe tbody tr th {\n",
       "        vertical-align: top;\n",
       "    }\n",
       "\n",
       "    .dataframe thead th {\n",
       "        text-align: right;\n",
       "    }\n",
       "</style>\n",
       "<table border=\"1\" class=\"dataframe\">\n",
       "  <thead>\n",
       "    <tr style=\"text-align: right;\">\n",
       "      <th></th>\n",
       "      <th>user_id</th>\n",
       "      <th>register_time</th>\n",
       "      <th>wood_add_value</th>\n",
       "      <th>wood_reduce_value</th>\n",
       "      <th>stone_add_value</th>\n",
       "      <th>stone_reduce_value</th>\n",
       "      <th>ivory_add_value</th>\n",
       "      <th>ivory_reduce_value</th>\n",
       "      <th>meat_add_value</th>\n",
       "      <th>meat_reduce_value</th>\n",
       "      <th>...</th>\n",
       "      <th>pvp_battle_count</th>\n",
       "      <th>pvp_lanch_count</th>\n",
       "      <th>pvp_win_count</th>\n",
       "      <th>pve_battle_count</th>\n",
       "      <th>pve_lanch_count</th>\n",
       "      <th>pve_win_count</th>\n",
       "      <th>avg_online_minutes</th>\n",
       "      <th>pay_price</th>\n",
       "      <th>pay_count</th>\n",
       "      <th>prediction_pay_price</th>\n",
       "    </tr>\n",
       "  </thead>\n",
       "  <tbody>\n",
       "    <tr>\n",
       "      <th>0</th>\n",
       "      <td>1</td>\n",
       "      <td>2018-02-02 19:47:15</td>\n",
       "      <td>20125.0</td>\n",
       "      <td>3700.0</td>\n",
       "      <td>0.0</td>\n",
       "      <td>0.0</td>\n",
       "      <td>0.0</td>\n",
       "      <td>0.0</td>\n",
       "      <td>16375.0</td>\n",
       "      <td>2000.0</td>\n",
       "      <td>...</td>\n",
       "      <td>0</td>\n",
       "      <td>0</td>\n",
       "      <td>0</td>\n",
       "      <td>0</td>\n",
       "      <td>0</td>\n",
       "      <td>0</td>\n",
       "      <td>0.333333</td>\n",
       "      <td>0.0</td>\n",
       "      <td>0</td>\n",
       "      <td>0.0</td>\n",
       "    </tr>\n",
       "    <tr>\n",
       "      <th>1</th>\n",
       "      <td>1593</td>\n",
       "      <td>2018-01-26 00:01:05</td>\n",
       "      <td>0.0</td>\n",
       "      <td>0.0</td>\n",
       "      <td>0.0</td>\n",
       "      <td>0.0</td>\n",
       "      <td>0.0</td>\n",
       "      <td>0.0</td>\n",
       "      <td>0.0</td>\n",
       "      <td>0.0</td>\n",
       "      <td>...</td>\n",
       "      <td>0</td>\n",
       "      <td>0</td>\n",
       "      <td>0</td>\n",
       "      <td>0</td>\n",
       "      <td>0</td>\n",
       "      <td>0</td>\n",
       "      <td>0.333333</td>\n",
       "      <td>0.0</td>\n",
       "      <td>0</td>\n",
       "      <td>0.0</td>\n",
       "    </tr>\n",
       "    <tr>\n",
       "      <th>2</th>\n",
       "      <td>1594</td>\n",
       "      <td>2018-01-26 00:01:58</td>\n",
       "      <td>0.0</td>\n",
       "      <td>0.0</td>\n",
       "      <td>0.0</td>\n",
       "      <td>0.0</td>\n",
       "      <td>0.0</td>\n",
       "      <td>0.0</td>\n",
       "      <td>0.0</td>\n",
       "      <td>0.0</td>\n",
       "      <td>...</td>\n",
       "      <td>0</td>\n",
       "      <td>0</td>\n",
       "      <td>0</td>\n",
       "      <td>0</td>\n",
       "      <td>0</td>\n",
       "      <td>0</td>\n",
       "      <td>1.166667</td>\n",
       "      <td>0.0</td>\n",
       "      <td>0</td>\n",
       "      <td>0.0</td>\n",
       "    </tr>\n",
       "    <tr>\n",
       "      <th>3</th>\n",
       "      <td>1595</td>\n",
       "      <td>2018-01-26 00:02:13</td>\n",
       "      <td>0.0</td>\n",
       "      <td>0.0</td>\n",
       "      <td>0.0</td>\n",
       "      <td>0.0</td>\n",
       "      <td>0.0</td>\n",
       "      <td>0.0</td>\n",
       "      <td>0.0</td>\n",
       "      <td>0.0</td>\n",
       "      <td>...</td>\n",
       "      <td>0</td>\n",
       "      <td>0</td>\n",
       "      <td>0</td>\n",
       "      <td>0</td>\n",
       "      <td>0</td>\n",
       "      <td>0</td>\n",
       "      <td>3.166667</td>\n",
       "      <td>0.0</td>\n",
       "      <td>0</td>\n",
       "      <td>0.0</td>\n",
       "    </tr>\n",
       "    <tr>\n",
       "      <th>4</th>\n",
       "      <td>1596</td>\n",
       "      <td>2018-01-26 00:02:46</td>\n",
       "      <td>0.0</td>\n",
       "      <td>0.0</td>\n",
       "      <td>0.0</td>\n",
       "      <td>0.0</td>\n",
       "      <td>0.0</td>\n",
       "      <td>0.0</td>\n",
       "      <td>0.0</td>\n",
       "      <td>0.0</td>\n",
       "      <td>...</td>\n",
       "      <td>0</td>\n",
       "      <td>0</td>\n",
       "      <td>0</td>\n",
       "      <td>0</td>\n",
       "      <td>0</td>\n",
       "      <td>0</td>\n",
       "      <td>2.333333</td>\n",
       "      <td>0.0</td>\n",
       "      <td>0</td>\n",
       "      <td>0.0</td>\n",
       "    </tr>\n",
       "  </tbody>\n",
       "</table>\n",
       "<p>5 rows × 109 columns</p>\n",
       "</div>"
      ],
      "text/plain": [
       "   user_id        register_time  wood_add_value  wood_reduce_value  \\\n",
       "0        1  2018-02-02 19:47:15         20125.0             3700.0   \n",
       "1     1593  2018-01-26 00:01:05             0.0                0.0   \n",
       "2     1594  2018-01-26 00:01:58             0.0                0.0   \n",
       "3     1595  2018-01-26 00:02:13             0.0                0.0   \n",
       "4     1596  2018-01-26 00:02:46             0.0                0.0   \n",
       "\n",
       "   stone_add_value  stone_reduce_value  ivory_add_value  ivory_reduce_value  \\\n",
       "0              0.0                 0.0              0.0                 0.0   \n",
       "1              0.0                 0.0              0.0                 0.0   \n",
       "2              0.0                 0.0              0.0                 0.0   \n",
       "3              0.0                 0.0              0.0                 0.0   \n",
       "4              0.0                 0.0              0.0                 0.0   \n",
       "\n",
       "   meat_add_value  meat_reduce_value  ...  pvp_battle_count  pvp_lanch_count  \\\n",
       "0         16375.0             2000.0  ...                 0                0   \n",
       "1             0.0                0.0  ...                 0                0   \n",
       "2             0.0                0.0  ...                 0                0   \n",
       "3             0.0                0.0  ...                 0                0   \n",
       "4             0.0                0.0  ...                 0                0   \n",
       "\n",
       "   pvp_win_count  pve_battle_count  pve_lanch_count  pve_win_count  \\\n",
       "0              0                 0                0              0   \n",
       "1              0                 0                0              0   \n",
       "2              0                 0                0              0   \n",
       "3              0                 0                0              0   \n",
       "4              0                 0                0              0   \n",
       "\n",
       "   avg_online_minutes  pay_price  pay_count  prediction_pay_price  \n",
       "0            0.333333        0.0          0                   0.0  \n",
       "1            0.333333        0.0          0                   0.0  \n",
       "2            1.166667        0.0          0                   0.0  \n",
       "3            3.166667        0.0          0                   0.0  \n",
       "4            2.333333        0.0          0                   0.0  \n",
       "\n",
       "[5 rows x 109 columns]"
      ]
     },
     "execution_count": 2,
     "metadata": {},
     "output_type": "execute_result"
    }
   ],
   "source": [
    "data = pd.read_csv(r'D:\\data\\python\\DataCastle2w\\tap4fun\\tap_fun_train.csv')\n",
    "data.head()"
   ]
  },
  {
   "cell_type": "code",
   "execution_count": 3,
   "metadata": {},
   "outputs": [
    {
     "data": {
      "text/plain": [
       "(2288007, 109)"
      ]
     },
     "execution_count": 3,
     "metadata": {},
     "output_type": "execute_result"
    }
   ],
   "source": [
    "data.shape"
   ]
  },
  {
   "cell_type": "code",
   "execution_count": 4,
   "metadata": {},
   "outputs": [
    {
     "data": {
      "text/html": [
       "<div>\n",
       "<style scoped>\n",
       "    .dataframe tbody tr th:only-of-type {\n",
       "        vertical-align: middle;\n",
       "    }\n",
       "\n",
       "    .dataframe tbody tr th {\n",
       "        vertical-align: top;\n",
       "    }\n",
       "\n",
       "    .dataframe thead th {\n",
       "        text-align: right;\n",
       "    }\n",
       "</style>\n",
       "<table border=\"1\" class=\"dataframe\">\n",
       "  <thead>\n",
       "    <tr style=\"text-align: right;\">\n",
       "      <th>字段解释</th>\n",
       "      <th>玩家唯一ID</th>\n",
       "      <th>玩家注册时间</th>\n",
       "      <th>木头获取数量</th>\n",
       "      <th>木头消耗数量</th>\n",
       "      <th>石头获取数量</th>\n",
       "      <th>石头消耗数量</th>\n",
       "      <th>象牙获取数量</th>\n",
       "      <th>象牙消耗数量</th>\n",
       "      <th>肉获取数量</th>\n",
       "      <th>肉消耗数量</th>\n",
       "      <th>...</th>\n",
       "      <th>PVP次数</th>\n",
       "      <th>主动发起PVP次数</th>\n",
       "      <th>PVP胜利次数</th>\n",
       "      <th>PVE次数</th>\n",
       "      <th>主动发起PVE次数</th>\n",
       "      <th>PVE胜利次数</th>\n",
       "      <th>在线时长</th>\n",
       "      <th>付费金额</th>\n",
       "      <th>付费次数</th>\n",
       "      <th>45日付费金额</th>\n",
       "    </tr>\n",
       "  </thead>\n",
       "  <tbody>\n",
       "    <tr>\n",
       "      <th>0</th>\n",
       "      <td>1</td>\n",
       "      <td>2018-02-02 19:47:15</td>\n",
       "      <td>20125.0</td>\n",
       "      <td>3700.0</td>\n",
       "      <td>0.0</td>\n",
       "      <td>0.0</td>\n",
       "      <td>0.0</td>\n",
       "      <td>0.0</td>\n",
       "      <td>16375.0</td>\n",
       "      <td>2000.0</td>\n",
       "      <td>...</td>\n",
       "      <td>0</td>\n",
       "      <td>0</td>\n",
       "      <td>0</td>\n",
       "      <td>0</td>\n",
       "      <td>0</td>\n",
       "      <td>0</td>\n",
       "      <td>0.333333</td>\n",
       "      <td>0.0</td>\n",
       "      <td>0</td>\n",
       "      <td>0.0</td>\n",
       "    </tr>\n",
       "    <tr>\n",
       "      <th>1</th>\n",
       "      <td>1593</td>\n",
       "      <td>2018-01-26 00:01:05</td>\n",
       "      <td>0.0</td>\n",
       "      <td>0.0</td>\n",
       "      <td>0.0</td>\n",
       "      <td>0.0</td>\n",
       "      <td>0.0</td>\n",
       "      <td>0.0</td>\n",
       "      <td>0.0</td>\n",
       "      <td>0.0</td>\n",
       "      <td>...</td>\n",
       "      <td>0</td>\n",
       "      <td>0</td>\n",
       "      <td>0</td>\n",
       "      <td>0</td>\n",
       "      <td>0</td>\n",
       "      <td>0</td>\n",
       "      <td>0.333333</td>\n",
       "      <td>0.0</td>\n",
       "      <td>0</td>\n",
       "      <td>0.0</td>\n",
       "    </tr>\n",
       "    <tr>\n",
       "      <th>2</th>\n",
       "      <td>1594</td>\n",
       "      <td>2018-01-26 00:01:58</td>\n",
       "      <td>0.0</td>\n",
       "      <td>0.0</td>\n",
       "      <td>0.0</td>\n",
       "      <td>0.0</td>\n",
       "      <td>0.0</td>\n",
       "      <td>0.0</td>\n",
       "      <td>0.0</td>\n",
       "      <td>0.0</td>\n",
       "      <td>...</td>\n",
       "      <td>0</td>\n",
       "      <td>0</td>\n",
       "      <td>0</td>\n",
       "      <td>0</td>\n",
       "      <td>0</td>\n",
       "      <td>0</td>\n",
       "      <td>1.166667</td>\n",
       "      <td>0.0</td>\n",
       "      <td>0</td>\n",
       "      <td>0.0</td>\n",
       "    </tr>\n",
       "    <tr>\n",
       "      <th>3</th>\n",
       "      <td>1595</td>\n",
       "      <td>2018-01-26 00:02:13</td>\n",
       "      <td>0.0</td>\n",
       "      <td>0.0</td>\n",
       "      <td>0.0</td>\n",
       "      <td>0.0</td>\n",
       "      <td>0.0</td>\n",
       "      <td>0.0</td>\n",
       "      <td>0.0</td>\n",
       "      <td>0.0</td>\n",
       "      <td>...</td>\n",
       "      <td>0</td>\n",
       "      <td>0</td>\n",
       "      <td>0</td>\n",
       "      <td>0</td>\n",
       "      <td>0</td>\n",
       "      <td>0</td>\n",
       "      <td>3.166667</td>\n",
       "      <td>0.0</td>\n",
       "      <td>0</td>\n",
       "      <td>0.0</td>\n",
       "    </tr>\n",
       "    <tr>\n",
       "      <th>4</th>\n",
       "      <td>1596</td>\n",
       "      <td>2018-01-26 00:02:46</td>\n",
       "      <td>0.0</td>\n",
       "      <td>0.0</td>\n",
       "      <td>0.0</td>\n",
       "      <td>0.0</td>\n",
       "      <td>0.0</td>\n",
       "      <td>0.0</td>\n",
       "      <td>0.0</td>\n",
       "      <td>0.0</td>\n",
       "      <td>...</td>\n",
       "      <td>0</td>\n",
       "      <td>0</td>\n",
       "      <td>0</td>\n",
       "      <td>0</td>\n",
       "      <td>0</td>\n",
       "      <td>0</td>\n",
       "      <td>2.333333</td>\n",
       "      <td>0.0</td>\n",
       "      <td>0</td>\n",
       "      <td>0.0</td>\n",
       "    </tr>\n",
       "  </tbody>\n",
       "</table>\n",
       "<p>5 rows × 109 columns</p>\n",
       "</div>"
      ],
      "text/plain": [
       "字段解释  玩家唯一ID               玩家注册时间   木头获取数量  木头消耗数量  石头获取数量  石头消耗数量  象牙获取数量  \\\n",
       "0          1  2018-02-02 19:47:15  20125.0  3700.0     0.0     0.0     0.0   \n",
       "1       1593  2018-01-26 00:01:05      0.0     0.0     0.0     0.0     0.0   \n",
       "2       1594  2018-01-26 00:01:58      0.0     0.0     0.0     0.0     0.0   \n",
       "3       1595  2018-01-26 00:02:13      0.0     0.0     0.0     0.0     0.0   \n",
       "4       1596  2018-01-26 00:02:46      0.0     0.0     0.0     0.0     0.0   \n",
       "\n",
       "字段解释  象牙消耗数量    肉获取数量   肉消耗数量  ...  PVP次数  主动发起PVP次数  PVP胜利次数  PVE次数  \\\n",
       "0        0.0  16375.0  2000.0  ...      0          0        0      0   \n",
       "1        0.0      0.0     0.0  ...      0          0        0      0   \n",
       "2        0.0      0.0     0.0  ...      0          0        0      0   \n",
       "3        0.0      0.0     0.0  ...      0          0        0      0   \n",
       "4        0.0      0.0     0.0  ...      0          0        0      0   \n",
       "\n",
       "字段解释  主动发起PVE次数  PVE胜利次数      在线时长  付费金额  付费次数  45日付费金额  \n",
       "0             0        0  0.333333   0.0     0      0.0  \n",
       "1             0        0  0.333333   0.0     0      0.0  \n",
       "2             0        0  1.166667   0.0     0      0.0  \n",
       "3             0        0  3.166667   0.0     0      0.0  \n",
       "4             0        0  2.333333   0.0     0      0.0  \n",
       "\n",
       "[5 rows x 109 columns]"
      ]
     },
     "execution_count": 4,
     "metadata": {},
     "output_type": "execute_result"
    }
   ],
   "source": [
    "# 更换列名为中文\n",
    "column_name = pd.read_excel(r'D:\\data\\python\\DataCastle2w\\tap4fun\\tap4fun 数据字段解释.xlsx')\n",
    "data.columns = column_name['字段解释']\n",
    "data.head()"
   ]
  },
  {
   "cell_type": "code",
   "execution_count": 5,
   "metadata": {},
   "outputs": [
    {
     "name": "stdout",
     "output_type": "stream",
     "text": [
      "<class 'pandas.core.frame.DataFrame'>\n",
      "RangeIndex: 2288007 entries, 0 to 2288006\n",
      "Columns: 109 entries, 玩家唯一ID to 45日付费金额\n",
      "dtypes: float64(13), int64(95), object(1)\n",
      "memory usage: 1.9+ GB\n"
     ]
    }
   ],
   "source": [
    "data.info()"
   ]
  },
  {
   "cell_type": "code",
   "execution_count": 6,
   "metadata": {},
   "outputs": [
    {
     "data": {
      "text/plain": [
       "0"
      ]
     },
     "execution_count": 6,
     "metadata": {},
     "output_type": "execute_result"
    }
   ],
   "source": [
    "data.isnull().sum().sum()"
   ]
  },
  {
   "cell_type": "code",
   "execution_count": 7,
   "metadata": {},
   "outputs": [
    {
     "data": {
      "text/plain": [
       "0"
      ]
     },
     "execution_count": 7,
     "metadata": {},
     "output_type": "execute_result"
    }
   ],
   "source": [
    "data.duplicated().sum()"
   ]
  },
  {
   "cell_type": "code",
   "execution_count": 8,
   "metadata": {},
   "outputs": [
    {
     "data": {
      "text/plain": [
       "0"
      ]
     },
     "execution_count": 8,
     "metadata": {},
     "output_type": "execute_result"
    }
   ],
   "source": [
    "data['玩家唯一ID'].duplicated().sum()"
   ]
  },
  {
   "cell_type": "code",
   "execution_count": 9,
   "metadata": {},
   "outputs": [
    {
     "data": {
      "text/html": [
       "<div>\n",
       "<style scoped>\n",
       "    .dataframe tbody tr th:only-of-type {\n",
       "        vertical-align: middle;\n",
       "    }\n",
       "\n",
       "    .dataframe tbody tr th {\n",
       "        vertical-align: top;\n",
       "    }\n",
       "\n",
       "    .dataframe thead th {\n",
       "        text-align: right;\n",
       "    }\n",
       "</style>\n",
       "<table border=\"1\" class=\"dataframe\">\n",
       "  <thead>\n",
       "    <tr style=\"text-align: right;\">\n",
       "      <th></th>\n",
       "      <th>count</th>\n",
       "      <th>mean</th>\n",
       "      <th>std</th>\n",
       "      <th>min</th>\n",
       "      <th>25%</th>\n",
       "      <th>50%</th>\n",
       "      <th>75%</th>\n",
       "      <th>max</th>\n",
       "    </tr>\n",
       "    <tr>\n",
       "      <th>字段解释</th>\n",
       "      <th></th>\n",
       "      <th></th>\n",
       "      <th></th>\n",
       "      <th></th>\n",
       "      <th></th>\n",
       "      <th></th>\n",
       "      <th></th>\n",
       "      <th></th>\n",
       "    </tr>\n",
       "  </thead>\n",
       "  <tbody>\n",
       "    <tr>\n",
       "      <th>玩家唯一ID</th>\n",
       "      <td>2288007.0</td>\n",
       "      <td>1.529543e+06</td>\n",
       "      <td>9.399393e+05</td>\n",
       "      <td>1.0</td>\n",
       "      <td>749992.5</td>\n",
       "      <td>1.419095e+06</td>\n",
       "      <td>2.299006e+06</td>\n",
       "      <td>3.190530e+06</td>\n",
       "    </tr>\n",
       "    <tr>\n",
       "      <th>木头获取数量</th>\n",
       "      <td>2288007.0</td>\n",
       "      <td>4.543069e+05</td>\n",
       "      <td>4.958667e+06</td>\n",
       "      <td>0.0</td>\n",
       "      <td>0.0</td>\n",
       "      <td>4.203800e+04</td>\n",
       "      <td>1.531180e+05</td>\n",
       "      <td>1.239962e+09</td>\n",
       "    </tr>\n",
       "    <tr>\n",
       "      <th>木头消耗数量</th>\n",
       "      <td>2288007.0</td>\n",
       "      <td>3.698433e+05</td>\n",
       "      <td>3.737720e+06</td>\n",
       "      <td>0.0</td>\n",
       "      <td>0.0</td>\n",
       "      <td>9.830000e+03</td>\n",
       "      <td>9.855700e+04</td>\n",
       "      <td>7.995875e+08</td>\n",
       "    </tr>\n",
       "    <tr>\n",
       "      <th>石头获取数量</th>\n",
       "      <td>2288007.0</td>\n",
       "      <td>1.897788e+05</td>\n",
       "      <td>4.670620e+06</td>\n",
       "      <td>0.0</td>\n",
       "      <td>0.0</td>\n",
       "      <td>0.000000e+00</td>\n",
       "      <td>0.000000e+00</td>\n",
       "      <td>1.214869e+09</td>\n",
       "    </tr>\n",
       "    <tr>\n",
       "      <th>石头消耗数量</th>\n",
       "      <td>2288007.0</td>\n",
       "      <td>1.376074e+05</td>\n",
       "      <td>3.370166e+06</td>\n",
       "      <td>0.0</td>\n",
       "      <td>0.0</td>\n",
       "      <td>0.000000e+00</td>\n",
       "      <td>0.000000e+00</td>\n",
       "      <td>7.962378e+08</td>\n",
       "    </tr>\n",
       "    <tr>\n",
       "      <th>...</th>\n",
       "      <td>...</td>\n",
       "      <td>...</td>\n",
       "      <td>...</td>\n",
       "      <td>...</td>\n",
       "      <td>...</td>\n",
       "      <td>...</td>\n",
       "      <td>...</td>\n",
       "      <td>...</td>\n",
       "    </tr>\n",
       "    <tr>\n",
       "      <th>PVE胜利次数</th>\n",
       "      <td>2288007.0</td>\n",
       "      <td>2.556749e+00</td>\n",
       "      <td>1.184737e+01</td>\n",
       "      <td>0.0</td>\n",
       "      <td>0.0</td>\n",
       "      <td>0.000000e+00</td>\n",
       "      <td>1.000000e+00</td>\n",
       "      <td>4.880000e+02</td>\n",
       "    </tr>\n",
       "    <tr>\n",
       "      <th>在线时长</th>\n",
       "      <td>2288007.0</td>\n",
       "      <td>1.020749e+01</td>\n",
       "      <td>3.895946e+01</td>\n",
       "      <td>0.0</td>\n",
       "      <td>0.5</td>\n",
       "      <td>1.833333e+00</td>\n",
       "      <td>4.833333e+00</td>\n",
       "      <td>2.049667e+03</td>\n",
       "    </tr>\n",
       "    <tr>\n",
       "      <th>付费金额</th>\n",
       "      <td>2288007.0</td>\n",
       "      <td>5.346691e-01</td>\n",
       "      <td>2.263835e+01</td>\n",
       "      <td>0.0</td>\n",
       "      <td>0.0</td>\n",
       "      <td>0.000000e+00</td>\n",
       "      <td>0.000000e+00</td>\n",
       "      <td>7.457950e+03</td>\n",
       "    </tr>\n",
       "    <tr>\n",
       "      <th>付费次数</th>\n",
       "      <td>2288007.0</td>\n",
       "      <td>5.770699e-02</td>\n",
       "      <td>7.090886e-01</td>\n",
       "      <td>0.0</td>\n",
       "      <td>0.0</td>\n",
       "      <td>0.000000e+00</td>\n",
       "      <td>0.000000e+00</td>\n",
       "      <td>1.050000e+02</td>\n",
       "    </tr>\n",
       "    <tr>\n",
       "      <th>45日付费金额</th>\n",
       "      <td>2288007.0</td>\n",
       "      <td>1.793146e+00</td>\n",
       "      <td>8.846303e+01</td>\n",
       "      <td>0.0</td>\n",
       "      <td>0.0</td>\n",
       "      <td>0.000000e+00</td>\n",
       "      <td>0.000000e+00</td>\n",
       "      <td>3.297781e+04</td>\n",
       "    </tr>\n",
       "  </tbody>\n",
       "</table>\n",
       "<p>108 rows × 8 columns</p>\n",
       "</div>"
      ],
      "text/plain": [
       "             count          mean           std  min       25%           50%  \\\n",
       "字段解释                                                                          \n",
       "玩家唯一ID   2288007.0  1.529543e+06  9.399393e+05  1.0  749992.5  1.419095e+06   \n",
       "木头获取数量   2288007.0  4.543069e+05  4.958667e+06  0.0       0.0  4.203800e+04   \n",
       "木头消耗数量   2288007.0  3.698433e+05  3.737720e+06  0.0       0.0  9.830000e+03   \n",
       "石头获取数量   2288007.0  1.897788e+05  4.670620e+06  0.0       0.0  0.000000e+00   \n",
       "石头消耗数量   2288007.0  1.376074e+05  3.370166e+06  0.0       0.0  0.000000e+00   \n",
       "...            ...           ...           ...  ...       ...           ...   \n",
       "PVE胜利次数  2288007.0  2.556749e+00  1.184737e+01  0.0       0.0  0.000000e+00   \n",
       "在线时长     2288007.0  1.020749e+01  3.895946e+01  0.0       0.5  1.833333e+00   \n",
       "付费金额     2288007.0  5.346691e-01  2.263835e+01  0.0       0.0  0.000000e+00   \n",
       "付费次数     2288007.0  5.770699e-02  7.090886e-01  0.0       0.0  0.000000e+00   \n",
       "45日付费金额  2288007.0  1.793146e+00  8.846303e+01  0.0       0.0  0.000000e+00   \n",
       "\n",
       "                  75%           max  \n",
       "字段解释                                 \n",
       "玩家唯一ID   2.299006e+06  3.190530e+06  \n",
       "木头获取数量   1.531180e+05  1.239962e+09  \n",
       "木头消耗数量   9.855700e+04  7.995875e+08  \n",
       "石头获取数量   0.000000e+00  1.214869e+09  \n",
       "石头消耗数量   0.000000e+00  7.962378e+08  \n",
       "...               ...           ...  \n",
       "PVE胜利次数  1.000000e+00  4.880000e+02  \n",
       "在线时长     4.833333e+00  2.049667e+03  \n",
       "付费金额     0.000000e+00  7.457950e+03  \n",
       "付费次数     0.000000e+00  1.050000e+02  \n",
       "45日付费金额  0.000000e+00  3.297781e+04  \n",
       "\n",
       "[108 rows x 8 columns]"
      ]
     },
     "execution_count": 9,
     "metadata": {},
     "output_type": "execute_result"
    }
   ],
   "source": [
    "data.describe().T"
   ]
  },
  {
   "cell_type": "code",
   "execution_count": 10,
   "metadata": {},
   "outputs": [
    {
     "data": {
      "text/html": [
       "<div>\n",
       "<style scoped>\n",
       "    .dataframe tbody tr th:only-of-type {\n",
       "        vertical-align: middle;\n",
       "    }\n",
       "\n",
       "    .dataframe tbody tr th {\n",
       "        vertical-align: top;\n",
       "    }\n",
       "\n",
       "    .dataframe thead th {\n",
       "        text-align: right;\n",
       "    }\n",
       "</style>\n",
       "<table border=\"1\" class=\"dataframe\">\n",
       "  <thead>\n",
       "    <tr style=\"text-align: right;\">\n",
       "      <th>字段解释</th>\n",
       "      <th>玩家唯一ID</th>\n",
       "      <th>木头获取数量</th>\n",
       "      <th>木头消耗数量</th>\n",
       "      <th>石头获取数量</th>\n",
       "      <th>石头消耗数量</th>\n",
       "      <th>象牙获取数量</th>\n",
       "      <th>象牙消耗数量</th>\n",
       "      <th>肉获取数量</th>\n",
       "      <th>肉消耗数量</th>\n",
       "      <th>魔法获取数量</th>\n",
       "      <th>...</th>\n",
       "      <th>PVP次数</th>\n",
       "      <th>主动发起PVP次数</th>\n",
       "      <th>PVP胜利次数</th>\n",
       "      <th>PVE次数</th>\n",
       "      <th>主动发起PVE次数</th>\n",
       "      <th>PVE胜利次数</th>\n",
       "      <th>在线时长</th>\n",
       "      <th>付费金额</th>\n",
       "      <th>付费次数</th>\n",
       "      <th>45日付费金额</th>\n",
       "    </tr>\n",
       "  </thead>\n",
       "  <tbody>\n",
       "    <tr>\n",
       "      <th>count</th>\n",
       "      <td>1.833890e+05</td>\n",
       "      <td>1.833890e+05</td>\n",
       "      <td>1.833890e+05</td>\n",
       "      <td>1.833890e+05</td>\n",
       "      <td>1.833890e+05</td>\n",
       "      <td>1.833890e+05</td>\n",
       "      <td>1.833890e+05</td>\n",
       "      <td>1.833890e+05</td>\n",
       "      <td>1.833890e+05</td>\n",
       "      <td>1.833890e+05</td>\n",
       "      <td>...</td>\n",
       "      <td>183389.000000</td>\n",
       "      <td>183389.000000</td>\n",
       "      <td>183389.000000</td>\n",
       "      <td>183389.000000</td>\n",
       "      <td>183389.000000</td>\n",
       "      <td>183389.000000</td>\n",
       "      <td>183389.000000</td>\n",
       "      <td>183389.000000</td>\n",
       "      <td>183389.000000</td>\n",
       "      <td>183389.000000</td>\n",
       "    </tr>\n",
       "    <tr>\n",
       "      <th>mean</th>\n",
       "      <td>1.527198e+06</td>\n",
       "      <td>4.260508e+06</td>\n",
       "      <td>3.691250e+06</td>\n",
       "      <td>2.183026e+06</td>\n",
       "      <td>1.671178e+06</td>\n",
       "      <td>9.393008e+05</td>\n",
       "      <td>4.494473e+05</td>\n",
       "      <td>5.515476e+06</td>\n",
       "      <td>3.606677e+06</td>\n",
       "      <td>6.896384e+05</td>\n",
       "      <td>...</td>\n",
       "      <td>17.862287</td>\n",
       "      <td>10.872533</td>\n",
       "      <td>10.702779</td>\n",
       "      <td>28.706395</td>\n",
       "      <td>28.581305</td>\n",
       "      <td>25.877299</td>\n",
       "      <td>93.633065</td>\n",
       "      <td>6.529412</td>\n",
       "      <td>0.667243</td>\n",
       "      <td>21.940276</td>\n",
       "    </tr>\n",
       "    <tr>\n",
       "      <th>std</th>\n",
       "      <td>9.417592e+05</td>\n",
       "      <td>1.702583e+07</td>\n",
       "      <td>1.271037e+07</td>\n",
       "      <td>1.635870e+07</td>\n",
       "      <td>1.179293e+07</td>\n",
       "      <td>7.785467e+06</td>\n",
       "      <td>6.276128e+06</td>\n",
       "      <td>1.969295e+07</td>\n",
       "      <td>1.144896e+07</td>\n",
       "      <td>3.049877e+06</td>\n",
       "      <td>...</td>\n",
       "      <td>35.914296</td>\n",
       "      <td>29.761461</td>\n",
       "      <td>29.786834</td>\n",
       "      <td>35.769415</td>\n",
       "      <td>35.664140</td>\n",
       "      <td>33.776231</td>\n",
       "      <td>105.899468</td>\n",
       "      <td>79.680715</td>\n",
       "      <td>2.400483</td>\n",
       "      <td>310.814209</td>\n",
       "    </tr>\n",
       "    <tr>\n",
       "      <th>min</th>\n",
       "      <td>1.617000e+03</td>\n",
       "      <td>0.000000e+00</td>\n",
       "      <td>0.000000e+00</td>\n",
       "      <td>0.000000e+00</td>\n",
       "      <td>0.000000e+00</td>\n",
       "      <td>0.000000e+00</td>\n",
       "      <td>0.000000e+00</td>\n",
       "      <td>0.000000e+00</td>\n",
       "      <td>0.000000e+00</td>\n",
       "      <td>0.000000e+00</td>\n",
       "      <td>...</td>\n",
       "      <td>0.000000</td>\n",
       "      <td>0.000000</td>\n",
       "      <td>0.000000</td>\n",
       "      <td>0.000000</td>\n",
       "      <td>0.000000</td>\n",
       "      <td>0.000000</td>\n",
       "      <td>20.000000</td>\n",
       "      <td>0.000000</td>\n",
       "      <td>0.000000</td>\n",
       "      <td>0.000000</td>\n",
       "    </tr>\n",
       "    <tr>\n",
       "      <th>25%</th>\n",
       "      <td>7.457400e+05</td>\n",
       "      <td>8.391720e+05</td>\n",
       "      <td>6.326900e+05</td>\n",
       "      <td>0.000000e+00</td>\n",
       "      <td>0.000000e+00</td>\n",
       "      <td>3.000000e+03</td>\n",
       "      <td>0.000000e+00</td>\n",
       "      <td>9.747930e+05</td>\n",
       "      <td>5.193580e+05</td>\n",
       "      <td>5.378100e+04</td>\n",
       "      <td>...</td>\n",
       "      <td>3.000000</td>\n",
       "      <td>0.000000</td>\n",
       "      <td>0.000000</td>\n",
       "      <td>5.000000</td>\n",
       "      <td>5.000000</td>\n",
       "      <td>4.000000</td>\n",
       "      <td>31.833333</td>\n",
       "      <td>0.000000</td>\n",
       "      <td>0.000000</td>\n",
       "      <td>0.000000</td>\n",
       "    </tr>\n",
       "    <tr>\n",
       "      <th>50%</th>\n",
       "      <td>1.418260e+06</td>\n",
       "      <td>1.919932e+06</td>\n",
       "      <td>1.639555e+06</td>\n",
       "      <td>2.000000e+05</td>\n",
       "      <td>0.000000e+00</td>\n",
       "      <td>3.000000e+04</td>\n",
       "      <td>0.000000e+00</td>\n",
       "      <td>2.579017e+06</td>\n",
       "      <td>1.570627e+06</td>\n",
       "      <td>1.800320e+05</td>\n",
       "      <td>...</td>\n",
       "      <td>8.000000</td>\n",
       "      <td>2.000000</td>\n",
       "      <td>2.000000</td>\n",
       "      <td>15.000000</td>\n",
       "      <td>15.000000</td>\n",
       "      <td>12.000000</td>\n",
       "      <td>55.000000</td>\n",
       "      <td>0.000000</td>\n",
       "      <td>0.000000</td>\n",
       "      <td>0.000000</td>\n",
       "    </tr>\n",
       "    <tr>\n",
       "      <th>75%</th>\n",
       "      <td>2.302023e+06</td>\n",
       "      <td>4.411091e+06</td>\n",
       "      <td>4.027713e+06</td>\n",
       "      <td>1.418334e+06</td>\n",
       "      <td>1.020406e+06</td>\n",
       "      <td>5.150000e+05</td>\n",
       "      <td>0.000000e+00</td>\n",
       "      <td>6.057070e+06</td>\n",
       "      <td>4.034940e+06</td>\n",
       "      <td>7.809050e+05</td>\n",
       "      <td>...</td>\n",
       "      <td>19.000000</td>\n",
       "      <td>9.000000</td>\n",
       "      <td>9.000000</td>\n",
       "      <td>38.000000</td>\n",
       "      <td>38.000000</td>\n",
       "      <td>34.000000</td>\n",
       "      <td>109.833333</td>\n",
       "      <td>0.000000</td>\n",
       "      <td>0.000000</td>\n",
       "      <td>0.000000</td>\n",
       "    </tr>\n",
       "    <tr>\n",
       "      <th>max</th>\n",
       "      <td>3.190518e+06</td>\n",
       "      <td>1.239962e+09</td>\n",
       "      <td>7.995875e+08</td>\n",
       "      <td>1.214869e+09</td>\n",
       "      <td>7.962378e+08</td>\n",
       "      <td>5.744961e+08</td>\n",
       "      <td>4.481972e+08</td>\n",
       "      <td>1.470644e+09</td>\n",
       "      <td>8.889537e+08</td>\n",
       "      <td>2.637228e+08</td>\n",
       "      <td>...</td>\n",
       "      <td>2054.000000</td>\n",
       "      <td>2051.000000</td>\n",
       "      <td>1904.000000</td>\n",
       "      <td>509.000000</td>\n",
       "      <td>509.000000</td>\n",
       "      <td>488.000000</td>\n",
       "      <td>2049.666667</td>\n",
       "      <td>7457.950000</td>\n",
       "      <td>105.000000</td>\n",
       "      <td>32977.810000</td>\n",
       "    </tr>\n",
       "  </tbody>\n",
       "</table>\n",
       "<p>8 rows × 108 columns</p>\n",
       "</div>"
      ],
      "text/plain": [
       "字段解释         玩家唯一ID        木头获取数量        木头消耗数量        石头获取数量        石头消耗数量  \\\n",
       "count  1.833890e+05  1.833890e+05  1.833890e+05  1.833890e+05  1.833890e+05   \n",
       "mean   1.527198e+06  4.260508e+06  3.691250e+06  2.183026e+06  1.671178e+06   \n",
       "std    9.417592e+05  1.702583e+07  1.271037e+07  1.635870e+07  1.179293e+07   \n",
       "min    1.617000e+03  0.000000e+00  0.000000e+00  0.000000e+00  0.000000e+00   \n",
       "25%    7.457400e+05  8.391720e+05  6.326900e+05  0.000000e+00  0.000000e+00   \n",
       "50%    1.418260e+06  1.919932e+06  1.639555e+06  2.000000e+05  0.000000e+00   \n",
       "75%    2.302023e+06  4.411091e+06  4.027713e+06  1.418334e+06  1.020406e+06   \n",
       "max    3.190518e+06  1.239962e+09  7.995875e+08  1.214869e+09  7.962378e+08   \n",
       "\n",
       "字段解释         象牙获取数量        象牙消耗数量         肉获取数量         肉消耗数量        魔法获取数量  \\\n",
       "count  1.833890e+05  1.833890e+05  1.833890e+05  1.833890e+05  1.833890e+05   \n",
       "mean   9.393008e+05  4.494473e+05  5.515476e+06  3.606677e+06  6.896384e+05   \n",
       "std    7.785467e+06  6.276128e+06  1.969295e+07  1.144896e+07  3.049877e+06   \n",
       "min    0.000000e+00  0.000000e+00  0.000000e+00  0.000000e+00  0.000000e+00   \n",
       "25%    3.000000e+03  0.000000e+00  9.747930e+05  5.193580e+05  5.378100e+04   \n",
       "50%    3.000000e+04  0.000000e+00  2.579017e+06  1.570627e+06  1.800320e+05   \n",
       "75%    5.150000e+05  0.000000e+00  6.057070e+06  4.034940e+06  7.809050e+05   \n",
       "max    5.744961e+08  4.481972e+08  1.470644e+09  8.889537e+08  2.637228e+08   \n",
       "\n",
       "字段解释   ...          PVP次数      主动发起PVP次数        PVP胜利次数          PVE次数  \\\n",
       "count  ...  183389.000000  183389.000000  183389.000000  183389.000000   \n",
       "mean   ...      17.862287      10.872533      10.702779      28.706395   \n",
       "std    ...      35.914296      29.761461      29.786834      35.769415   \n",
       "min    ...       0.000000       0.000000       0.000000       0.000000   \n",
       "25%    ...       3.000000       0.000000       0.000000       5.000000   \n",
       "50%    ...       8.000000       2.000000       2.000000      15.000000   \n",
       "75%    ...      19.000000       9.000000       9.000000      38.000000   \n",
       "max    ...    2054.000000    2051.000000    1904.000000     509.000000   \n",
       "\n",
       "字段解释       主动发起PVE次数        PVE胜利次数           在线时长           付费金额  \\\n",
       "count  183389.000000  183389.000000  183389.000000  183389.000000   \n",
       "mean       28.581305      25.877299      93.633065       6.529412   \n",
       "std        35.664140      33.776231     105.899468      79.680715   \n",
       "min         0.000000       0.000000      20.000000       0.000000   \n",
       "25%         5.000000       4.000000      31.833333       0.000000   \n",
       "50%        15.000000      12.000000      55.000000       0.000000   \n",
       "75%        38.000000      34.000000     109.833333       0.000000   \n",
       "max       509.000000     488.000000    2049.666667    7457.950000   \n",
       "\n",
       "字段解释            付费次数        45日付费金额  \n",
       "count  183389.000000  183389.000000  \n",
       "mean        0.667243      21.940276  \n",
       "std         2.400483     310.814209  \n",
       "min         0.000000       0.000000  \n",
       "25%         0.000000       0.000000  \n",
       "50%         0.000000       0.000000  \n",
       "75%         0.000000       0.000000  \n",
       "max       105.000000   32977.810000  \n",
       "\n",
       "[8 rows x 108 columns]"
      ]
     },
     "execution_count": 10,
     "metadata": {},
     "output_type": "execute_result"
    }
   ],
   "source": [
    "data[data['在线时长']>=20].describe()"
   ]
  },
  {
   "cell_type": "code",
   "execution_count": 11,
   "metadata": {},
   "outputs": [
    {
     "data": {
      "text/plain": [
       "0.08015228974386879"
      ]
     },
     "execution_count": 11,
     "metadata": {},
     "output_type": "execute_result"
    }
   ],
   "source": [
    "183389/data.shape[0]"
   ]
  },
  {
   "cell_type": "code",
   "execution_count": 12,
   "metadata": {},
   "outputs": [
    {
     "data": {
      "text/plain": [
       "2288007"
      ]
     },
     "execution_count": 12,
     "metadata": {},
     "output_type": "execute_result"
    }
   ],
   "source": [
    "data.shape[0]"
   ]
  },
  {
   "cell_type": "code",
   "execution_count": 13,
   "metadata": {},
   "outputs": [],
   "source": [
    "# 删除异常值\n",
    "data.drop(data[data['建筑：要塞等级']==23].index,inplace = True)"
   ]
  },
  {
   "cell_type": "code",
   "execution_count": 14,
   "metadata": {},
   "outputs": [
    {
     "data": {
      "image/png": "[encoded data removed]",
      "text/plain": [
       "<Figure size 1500x1200 with 5 Axes>"
      ]
     },
     "metadata": {
      "needs_background": "light"
     },
     "output_type": "display_data"
    }
   ],
   "source": [
    "# 按照要塞等级对活跃玩家7日付费金额进行聚合平均计算\n",
    "data1 = data[data['建筑：要塞等级']>0]\n",
    "yaosai = data1['建筑：要塞等级']\n",
    "data2 = data1[data1['付费金额']>0]\n",
    "pay = data2['付费金额']\n",
    "payMean = data1['付费金额'].groupby(yaosai).mean()\n",
    "paySum = data1['付费金额'].groupby(yaosai).sum()\n",
    "paycount = data2['付费金额'].groupby(yaosai).count()\n",
    "personcount = data1['付费金额'].groupby(yaosai).count()\n",
    "paypercent = paycount/personcount\n",
    "\n",
    "plt.figure(figsize=(15,12),dpi=100)\n",
    "plt.subplot(321)\n",
    "plt.title('不同要塞等级用户付费均值')\n",
    "plt.bar(payMean.index,payMean.values,color = 'pink')\n",
    "plt.xticks(range(1,23,1))\n",
    "\n",
    "\n",
    "plt.subplot(322)\n",
    "plt.title('不同要塞等级用户付费总额')\n",
    "plt.bar(paySum.index,paySum.values,color = 'pink')\n",
    "plt.xticks(range(1,23,1))\n",
    "\n",
    "plt.subplot(323)\n",
    "# plt.figure(figsize=(15,6),dpi=100)\n",
    "plt.title('不同要塞等级用户付费人数')\n",
    "plt.bar(paycount.index,paycount.values)\n",
    "plt.xticks(range(1,23,1))\n",
    "\n",
    "plt.subplot(324)\n",
    "# plt.figure(figsize=(15,6),dpi=100)\n",
    "plt.title('不同要塞等级用户总人数')\n",
    "plt.bar(personcount.index,personcount.values)\n",
    "plt.xticks(range(1,23,1))\n",
    "\n",
    "plt.subplot(325)\n",
    "# plt.figure(figsize=(15,15),dpi=100)\n",
    "plt.title('不同要塞等级用户付费率')\n",
    "plt.bar(paypercent.index,paypercent.values,color = 'pink')\n",
    "plt.xticks(range(1,23,1))\n",
    "plt.show()"
   ]
  },
  {
   "cell_type": "code",
   "execution_count": 15,
   "metadata": {},
   "outputs": [],
   "source": [
    "y = data.iloc[:,-1]#45日时的付费金额\n",
    "SevenDayPayAmount = data.iloc[:,-3]#探索7日内经营状况"
   ]
  },
  {
   "cell_type": "code",
   "execution_count": 16,
   "metadata": {
    "scrolled": true
   },
   "outputs": [
    {
     "data": {
      "text/plain": [
       "count    2.288006e+06\n",
       "mean     1.790652e+00\n",
       "std      8.838261e+01\n",
       "min      0.000000e+00\n",
       "50%      0.000000e+00\n",
       "75%      0.000000e+00\n",
       "90%      0.000000e+00\n",
       "95%      0.000000e+00\n",
       "97%      0.000000e+00\n",
       "99%      3.970000e+00\n",
       "max      3.297781e+04\n",
       "Name: 45日付费金额, dtype: float64"
      ]
     },
     "execution_count": 16,
     "metadata": {},
     "output_type": "execute_result"
    }
   ],
   "source": [
    "#对y进行分布探索\n",
    "y.describe([0.75,0.90,0.95,0.97,0.99])"
   ]
  },
  {
   "cell_type": "code",
   "execution_count": 17,
   "metadata": {},
   "outputs": [
    {
     "data": {
      "text/plain": [
       "2288006"
      ]
     },
     "execution_count": 17,
     "metadata": {},
     "output_type": "execute_result"
    }
   ],
   "source": [
    "data.shape[0]"
   ]
  },
  {
   "cell_type": "code",
   "execution_count": 18,
   "metadata": {},
   "outputs": [],
   "source": [
    "# 展示7日与45日氪金情况的关键指标\n",
    "def RevenueFocus(RevenueSeries):\n",
    "\n",
    "    \n",
    "\n",
    "    AllUsers = len(RevenueSeries)#全部用户\n",
    "    PaidUsers = (RevenueSeries!=0).sum()#付费用户数\n",
    "    TotalPayment = RevenueSeries.sum() #总付费金额\n",
    "    ActiveUsers = data[data['在线时长']>=20].shape[0]\n",
    "\n",
    "    print('付费率:{:.3f}%'.format(100*PaidUsers/ActiveUsers))\n",
    "    print('付费人数:{}'.format(PaidUsers))\n",
    "    print('转化总金额:{:.3f}'.format(TotalPayment))\n",
    "    print('ARPU:{:.3f}'.format(TotalPayment/ActiveUsers))\n",
    "    print('ARPPU:{:.3f}'.format(TotalPayment/PaidUsers))\n",
    "    print('前500高氪用户金额占比:{:.3f}%'.format(100*RevenueSeries.sort_values(ascending=False)[:500].sum()/TotalPayment))\n",
    "    print('前1000高氪用户金额占比:{:.3f}%'.format(100*RevenueSeries.sort_values(ascending=False)[:1000].sum()/TotalPayment))\n",
    "    print('前5000高氪用户金额占比:{:.3f}%'.format(100*RevenueSeries.sort_values(ascending=False)[:5000].sum()/TotalPayment))"
   ]
  },
  {
   "cell_type": "code",
   "execution_count": 19,
   "metadata": {},
   "outputs": [
    {
     "name": "stdout",
     "output_type": "stream",
     "text": [
      "付费率:25.076%\n",
      "付费人数:45987\n",
      "转化总金额:4097023.330\n",
      "ARPU:22.341\n",
      "ARPPU:89.091\n",
      "前500高氪用户金额占比:51.590%\n",
      "前1000高氪用户金额占比:64.848%\n",
      "前5000高氪用户金额占比:89.362%\n"
     ]
    }
   ],
   "source": [
    "# 45日氪金情况\n",
    "RevenueFocus(y)"
   ]
  },
  {
   "cell_type": "code",
   "execution_count": 20,
   "metadata": {},
   "outputs": [
    {
     "data": {
      "text/plain": [
       "0.0021853089546093846"
      ]
     },
     "execution_count": 20,
     "metadata": {},
     "output_type": "execute_result"
    }
   ],
   "source": [
    "5000/data.shape[0]"
   ]
  },
  {
   "cell_type": "code",
   "execution_count": 21,
   "metadata": {},
   "outputs": [
    {
     "name": "stdout",
     "output_type": "stream",
     "text": [
      "付费率:22.596%\n",
      "付费人数:41438\n",
      "转化总金额:1220176.300\n",
      "ARPU:6.654\n",
      "ARPPU:29.446\n",
      "前500高氪用户金额占比:45.103%\n",
      "前1000高氪用户金额占比:57.138%\n",
      "前5000高氪用户金额占比:82.961%\n"
     ]
    }
   ],
   "source": [
    "#7日转化情况\n",
    "RevenueFocus(SevenDayPayAmount)"
   ]
  },
  {
   "cell_type": "code",
   "execution_count": 22,
   "metadata": {},
   "outputs": [
    {
     "data": {
      "text/plain": [
       "4549"
      ]
     },
     "execution_count": 22,
     "metadata": {},
     "output_type": "execute_result"
    }
   ],
   "source": [
    "#7-45日新增氪金用户\n",
    "45988 - 41439"
   ]
  },
  {
   "cell_type": "code",
   "execution_count": 23,
   "metadata": {},
   "outputs": [
    {
     "data": {
      "text/plain": [
       "2246568"
      ]
     },
     "execution_count": 23,
     "metadata": {},
     "output_type": "execute_result"
    }
   ],
   "source": [
    "#前7天没有氪金的用户\n",
    "(SevenDayPayAmount == 0).sum()"
   ]
  },
  {
   "cell_type": "code",
   "execution_count": 24,
   "metadata": {},
   "outputs": [
    {
     "data": {
      "text/plain": [
       "0.2024866373953515"
      ]
     },
     "execution_count": 24,
     "metadata": {},
     "output_type": "execute_result"
    }
   ],
   "source": [
    "#7-45日新增氪金玩家/前7天没有氪金的玩家(%)\n",
    "100*(45988 - 41439)/((SevenDayPayAmount == 0).sum())"
   ]
  },
  {
   "cell_type": "code",
   "execution_count": 25,
   "metadata": {},
   "outputs": [
    {
     "data": {
      "text/plain": [
       "30130"
      ]
     },
     "execution_count": 25,
     "metadata": {},
     "output_type": "execute_result"
    }
   ],
   "source": [
    "#7日氪金了之后再也没有氪金的玩家：\n",
    "SevenDayPayAmount[SevenDayPayAmount == y][SevenDayPayAmount!=0].count()"
   ]
  },
  {
   "cell_type": "code",
   "execution_count": 26,
   "metadata": {},
   "outputs": [
    {
     "data": {
      "text/plain": [
       "72.71103817751822"
      ]
     },
     "execution_count": 26,
     "metadata": {},
     "output_type": "execute_result"
    }
   ],
   "source": [
    "# 占前7日氪金玩家人数的占比\n",
    "100*30130/((SevenDayPayAmount!=0).sum())"
   ]
  },
  {
   "cell_type": "code",
   "execution_count": 27,
   "metadata": {},
   "outputs": [
    {
     "data": {
      "text/plain": [
       "count    30130.000000\n",
       "mean        11.407407\n",
       "std         71.134875\n",
       "min          0.990000\n",
       "25%          0.990000\n",
       "50%          1.980000\n",
       "75%          5.980000\n",
       "max       4086.520000\n",
       "Name: 付费金额, dtype: float64"
      ]
     },
     "execution_count": 27,
     "metadata": {},
     "output_type": "execute_result"
    }
   ],
   "source": [
    "#7日后再也没有付过费的用户前七日的氪金情况\n",
    "SevenDayPayAmount[SevenDayPayAmount == y][SevenDayPayAmount!=0].describe()"
   ]
  },
  {
   "cell_type": "code",
   "execution_count": 28,
   "metadata": {},
   "outputs": [
    {
     "data": {
      "text/plain": [
       "343705.17000000004"
      ]
     },
     "execution_count": 28,
     "metadata": {},
     "output_type": "execute_result"
    }
   ],
   "source": [
    "SevenDayPayAmount[SevenDayPayAmount == y][SevenDayPayAmount!=0].sum()"
   ]
  },
  {
   "cell_type": "code",
   "execution_count": 29,
   "metadata": {},
   "outputs": [
    {
     "data": {
      "text/plain": [
       "count    11308.000000\n",
       "mean        77.508943\n",
       "std        288.178095\n",
       "min          0.990000\n",
       "25%          2.980000\n",
       "50%         15.970000\n",
       "75%         45.940000\n",
       "max       7457.950000\n",
       "Name: 付费金额, dtype: float64"
      ]
     },
     "execution_count": 29,
     "metadata": {},
     "output_type": "execute_result"
    }
   ],
   "source": [
    "#7日后继续付费的用户前7日的氪金情况\n",
    "SevenDayPayAmount[SevenDayPayAmount != y][SevenDayPayAmount!=0].describe()"
   ]
  },
  {
   "cell_type": "code",
   "execution_count": 30,
   "metadata": {},
   "outputs": [
    {
     "data": {
      "text/plain": [
       "876471.1299999999"
      ]
     },
     "execution_count": 30,
     "metadata": {},
     "output_type": "execute_result"
    }
   ],
   "source": [
    "SevenDayPayAmount[SevenDayPayAmount != y][SevenDayPayAmount!=0].sum()"
   ]
  },
  {
   "cell_type": "code",
   "execution_count": 31,
   "metadata": {},
   "outputs": [
    {
     "data": {
      "image/png": "[encoded data removed]",
      "text/plain": [
       "<Figure size 1080x504 with 1 Axes>"
      ]
     },
     "metadata": {
      "needs_background": "light"
     },
     "output_type": "display_data"
    }
   ],
   "source": [
    "# 两类用户在前7日的氪金情况\n",
    "plt.figure(figsize=(15,7))\n",
    "plt.boxplot([SevenDayPayAmount[SevenDayPayAmount == y][SevenDayPayAmount!=0]\n",
    "            ,SevenDayPayAmount[SevenDayPayAmount != y][SevenDayPayAmount!=0]]\n",
    "            ,labels=['7日后不再付费','7日后继续付费']\n",
    "            ,vert=False#是否垂直摆放\n",
    "           )\n",
    "plt.xlim(-1,50)\n",
    "plt.title('前7日消费金额分布图',fontsize=20)\n",
    "plt.yticks(fontsize=15.0)\n",
    "plt.xticks(range(0,80,2),fontsize=15.0)\n",
    "plt.show()"
   ]
  },
  {
   "cell_type": "code",
   "execution_count": 32,
   "metadata": {},
   "outputs": [
    {
     "name": "stdout",
     "output_type": "stream",
     "text": [
      "1\n",
      "37.681%\n",
      "62.319%\n",
      "-0.246%\n",
      "2\n",
      "43.717%\n",
      "56.283%\n",
      "-0.126%\n",
      "3\n",
      "45.756%\n",
      "54.244%\n",
      "-0.085%\n",
      "4\n",
      "46.529%\n",
      "53.471%\n",
      "-0.069%\n",
      "5\n",
      "48.091%\n",
      "51.909%\n",
      "-0.038%\n",
      "6\n",
      "50.775%\n",
      "49.225%\n",
      "0.015%\n",
      "当7日内付费金额大于6.00时，用户继续氪金的可能性比不再氪金的可能性更高！\n"
     ]
    }
   ],
   "source": [
    "PotentialPoints = range(1,16)\n",
    "for i in PotentialPoints:\n",
    "    #取出所有7天内付费金额超过i的付费用户\n",
    "    HighThanPoint = SevenDayPayAmount[SevenDayPayAmount>=i]\n",
    "    #这些用户7天后继续付费的比例\n",
    "    KeepPaid = len(HighThanPoint[SevenDayPayAmount!=y])/len(HighThanPoint)\n",
    "    #这些用户停止付费的比例\n",
    "    StopPaid = len(HighThanPoint[SevenDayPayAmount==y])/len(HighThanPoint)\n",
    "    print(i)\n",
    "    print('{:.3f}%'.format(100*KeepPaid))\n",
    "    print('{:.3f}%'.format(100*StopPaid))\n",
    "    print('{:.3f}%'.format(KeepPaid-StopPaid))\n",
    "    if KeepPaid - StopPaid > 0:\n",
    "        print('当7日内付费金额大于{:.2f}时，用户继续氪金的可能性比不再氪金的可能性更高！'.format(i))\n",
    "        break"
   ]
  },
  {
   "cell_type": "code",
   "execution_count": 33,
   "metadata": {},
   "outputs": [
    {
     "data": {
      "image/png": "[encoded data removed]",
      "text/plain": [
       "<Figure size 1080x504 with 1 Axes>"
      ]
     },
     "metadata": {
      "needs_background": "light"
     },
     "output_type": "display_data"
    }
   ],
   "source": [
    "# 用图像呈现\n",
    "KeepPaidList = []\n",
    "StopPaidList = []\n",
    "for i in PotentialPoints:\n",
    "    #取出所有7天内付费金额超过i的付费用户\n",
    "    HighThanPoint = SevenDayPayAmount[SevenDayPayAmount>=i]\n",
    "    #这些用户7天后继续付费的比例\n",
    "    KeepPaid = len(HighThanPoint[SevenDayPayAmount!=y])/len(HighThanPoint)\n",
    "    #这些用户停止付费的比例\n",
    "    StopPaid = len(HighThanPoint[SevenDayPayAmount==y])/len(HighThanPoint)\n",
    "    KeepPaidList.append(100*KeepPaid)\n",
    "    StopPaidList.append(100*StopPaid)\n",
    "    \n",
    "plt.figure(figsize=(15,7))\n",
    "plt.plot(PotentialPoints,KeepPaidList,label='7日后继续付费的概率(%)',color='orangered')\n",
    "plt.plot(PotentialPoints,StopPaidList,label='7日后停止付费的概率(%)',color='skyblue')\n",
    "# plt.xlim(-1,50)\n",
    "plt.title('前7日氪金金额增加，继续付费/停止付费概率的变化',fontsize=20)\n",
    "plt.yticks(fontsize=15)\n",
    "plt.xticks(range(0,16,1),fontsize=15)\n",
    "plt.legend(fontsize=15,frameon=False)\n",
    "plt.vlines(5.7,ymin=plt.ylim()[0]+0.1,ymax=plt.ylim()[1]-0.1,colors='black',linestyles='dotted')\n",
    "plt.show()"
   ]
  },
  {
   "cell_type": "code",
   "execution_count": 34,
   "metadata": {},
   "outputs": [
    {
     "name": "stdout",
     "output_type": "stream",
     "text": [
      "付费率:25.076%\n",
      "付费人数:45987\n",
      "转化总金额:4097023.330\n",
      "ARPU:22.341\n",
      "ARPPU:89.091\n",
      "前500高氪用户金额占比:51.590%\n",
      "前1000高氪用户金额占比:64.848%\n",
      "前5000高氪用户金额占比:89.362%\n"
     ]
    }
   ],
   "source": [
    "# 45日转化情况\n",
    "RevenueFocus(y)"
   ]
  },
  {
   "cell_type": "code",
   "execution_count": 35,
   "metadata": {},
   "outputs": [
    {
     "name": "stdout",
     "output_type": "stream",
     "text": [
      "付费率:22.596%\n",
      "付费人数:41438\n",
      "转化总金额:1220176.300\n",
      "ARPU:6.654\n",
      "ARPPU:29.446\n",
      "前500高氪用户金额占比:45.103%\n",
      "前1000高氪用户金额占比:57.138%\n",
      "前5000高氪用户金额占比:82.961%\n"
     ]
    }
   ],
   "source": [
    "#7日转化情况\n",
    "RevenueFocus(SevenDayPayAmount)"
   ]
  },
  {
   "cell_type": "code",
   "execution_count": 36,
   "metadata": {},
   "outputs": [
    {
     "data": {
      "text/plain": [
       "2049.666667"
      ]
     },
     "execution_count": 36,
     "metadata": {},
     "output_type": "execute_result"
    }
   ],
   "source": [
    "PlayTime = data.loc[:,'在线时长']\n",
    "PlayTime.max()"
   ]
  },
  {
   "cell_type": "code",
   "execution_count": 37,
   "metadata": {},
   "outputs": [
    {
     "data": {
      "text/plain": [
       "count   2288006.000\n",
       "mean         10.207\n",
       "std          38.959\n",
       "min           0.000\n",
       "25%           0.500\n",
       "50%           1.833\n",
       "75%           4.833\n",
       "max        2049.667\n",
       "Name: 在线时长, dtype: float64"
      ]
     },
     "execution_count": 37,
     "metadata": {},
     "output_type": "execute_result"
    }
   ],
   "source": [
    "# pandas属性设置—设置不显示科学计数法\n",
    "pd.set_option('display.float_format',lambda x : '{:.3f}'.format(x))\n",
    "PlayTime.describe()"
   ]
  },
  {
   "cell_type": "code",
   "execution_count": 38,
   "metadata": {},
   "outputs": [
    {
     "data": {
      "text/plain": [
       "count   2288006.000\n",
       "mean         10.207\n",
       "std          38.959\n",
       "min           0.000\n",
       "50%           1.833\n",
       "75%           4.833\n",
       "90%          15.000\n",
       "95%          41.333\n",
       "99%         183.500\n",
       "max        2049.667\n",
       "Name: 在线时长, dtype: float64"
      ]
     },
     "execution_count": 38,
     "metadata": {},
     "output_type": "execute_result"
    }
   ],
   "source": [
    "# 查看一下90%以上的分布\n",
    "PlayTime.describe([0.75,0.9,0.95,0.99])"
   ]
  },
  {
   "cell_type": "code",
   "execution_count": 39,
   "metadata": {},
   "outputs": [
    {
     "data": {
      "text/plain": [
       "0          2018-02-02\n",
       "1          2018-01-26\n",
       "2          2018-01-26\n",
       "3          2018-01-26\n",
       "4          2018-01-26\n",
       "              ...    \n",
       "2288002    2018-02-03\n",
       "2288003    2018-02-03\n",
       "2288004    2018-02-03\n",
       "2288005    2018-02-03\n",
       "2288006    2018-02-03\n",
       "Name: 玩家注册时间, Length: 2288006, dtype: object"
      ]
     },
     "execution_count": 39,
     "metadata": {},
     "output_type": "execute_result"
    }
   ],
   "source": [
    "RegisterDate = data.loc[:,'玩家注册时间'].apply(lambda x:x[:10])\n",
    "RegisterDate"
   ]
  },
  {
   "cell_type": "code",
   "execution_count": 40,
   "metadata": {},
   "outputs": [
    {
     "data": {
      "image/png": "[encoded data removed]",
      "text/plain": [
       "<Figure size 432x288 with 1 Axes>"
      ]
     },
     "metadata": {
      "needs_background": "light"
     },
     "output_type": "display_data"
    }
   ],
   "source": [
    "Q = data.loc[(data['在线时长']<20)&(data['建筑：要塞等级']>0),'建筑：要塞等级'].groupby(data['建筑：要塞等级']).count()\n",
    "plt.bar(Q.index,Q.values)\n",
    "plt.xticks(range(0,13))\n",
    "plt.title('要塞等级')\n",
    "plt.show()"
   ]
  },
  {
   "cell_type": "code",
   "execution_count": 41,
   "metadata": {},
   "outputs": [
    {
     "data": {
      "image/png": "[encoded data removed]",
      "text/plain": [
       "<Figure size 432x288 with 1 Axes>"
      ]
     },
     "metadata": {
      "needs_background": "light"
     },
     "output_type": "display_data"
    }
   ],
   "source": [
    "Z = data.loc[(data['在线时长']<20)&(data['建筑：要塞等级']>0),'建筑：要塞等级'].groupby(data['建筑：要塞等级']).count()/(data.loc[(data['在线时长']<20)&(data['建筑：要塞等级']>0),'建筑：要塞等级']).count()\n",
    "plt.bar(Z.index,Z.values)\n",
    "plt.xticks(range(0,13))\n",
    "plt.title('要塞等级')\n",
    "plt.show()"
   ]
  },
  {
   "cell_type": "code",
   "execution_count": 42,
   "metadata": {},
   "outputs": [
    {
     "data": {
      "text/plain": [
       "建筑：要塞等级\n",
       "1    0.256\n",
       "2    0.237\n",
       "3    0.131\n",
       "4    0.144\n",
       "5    0.124\n",
       "6    0.055\n",
       "7    0.030\n",
       "8    0.017\n",
       "9    0.005\n",
       "10   0.000\n",
       "11   0.000\n",
       "12   0.000\n",
       "13   0.000\n",
       "Name: 建筑：要塞等级, dtype: float64"
      ]
     },
     "execution_count": 42,
     "metadata": {},
     "output_type": "execute_result"
    }
   ],
   "source": [
    "Z"
   ]
  },
  {
   "cell_type": "code",
   "execution_count": 43,
   "metadata": {},
   "outputs": [
    {
     "data": {
      "text/plain": [
       "<AxesSubplot:xlabel='在线时长', ylabel='Count'>"
      ]
     },
     "execution_count": 43,
     "metadata": {},
     "output_type": "execute_result"
    },
    {
     "data": {
      "image/png": "[encoded data removed]",
      "text/plain": [
       "<Figure size 3200x1200 with 1 Axes>"
      ]
     },
     "metadata": {
      "needs_background": "light"
     },
     "output_type": "display_data"
    }
   ],
   "source": [
    "import seaborn as sns\n",
    "plt.figure(figsize=(16, 6), dpi=200)\n",
    "sns.histplot(data.loc[(data['在线时长']<20)&(data['建筑：要塞等级']>0),'在线时长']) "
   ]
  },
  {
   "cell_type": "code",
   "execution_count": 44,
   "metadata": {},
   "outputs": [
    {
     "data": {
      "text/plain": [
       "count   41438.000\n",
       "mean      140.182\n",
       "std       149.970\n",
       "min         0.000\n",
       "25%        33.000\n",
       "50%        88.833\n",
       "75%       194.667\n",
       "max      1674.667\n",
       "Name: 在线时长, dtype: float64"
      ]
     },
     "execution_count": 44,
     "metadata": {},
     "output_type": "execute_result"
    }
   ],
   "source": [
    "PaidPlayTime = data.loc[data['付费金额']!=0,'在线时长']\n",
    "PaidPlayTime.describe().T"
   ]
  },
  {
   "cell_type": "code",
   "execution_count": 45,
   "metadata": {},
   "outputs": [
    {
     "name": "stdout",
     "output_type": "stream",
     "text": [
      "一周在线时长不足1分钟\n",
      "\t45日平均消费额为0.022,45日总消费额为18323.490元\n",
      "\t7日平均消费额为0.001,7日总消费额为574.180元\n",
      "\t7日氪金占比0.047%,45日氪金占比0.447%\n",
      "一周在线时长不足5分钟\n",
      "\t45日平均消费额为0.019,45日总消费额为32572.700元\n",
      "\t7日平均消费额为0.003,7日总消费额为4519.280元\n",
      "\t7日氪金占比0.370%,45日氪金占比0.795%\n"
     ]
    },
    {
     "name": "stderr",
     "output_type": "stream",
     "text": [
      "<ipython-input-45-bfecc245254c>:17: MatplotlibDeprecationWarning: Adding an axes using the same arguments as a previous axes currently reuses the earlier instance.  In a future version, a new instance will always be created and returned.  Meanwhile, this warning can be suppressed, and the future behavior ensured, by passing a unique label to each axes instance.\n",
      "  plt.subplot(211)\n",
      "<ipython-input-45-bfecc245254c>:23: MatplotlibDeprecationWarning: Adding an axes using the same arguments as a previous axes currently reuses the earlier instance.  In a future version, a new instance will always be created and returned.  Meanwhile, this warning can be suppressed, and the future behavior ensured, by passing a unique label to each axes instance.\n",
      "  plt.subplot(212)\n",
      "<ipython-input-45-bfecc245254c>:17: MatplotlibDeprecationWarning: Adding an axes using the same arguments as a previous axes currently reuses the earlier instance.  In a future version, a new instance will always be created and returned.  Meanwhile, this warning can be suppressed, and the future behavior ensured, by passing a unique label to each axes instance.\n",
      "  plt.subplot(211)\n",
      "<ipython-input-45-bfecc245254c>:23: MatplotlibDeprecationWarning: Adding an axes using the same arguments as a previous axes currently reuses the earlier instance.  In a future version, a new instance will always be created and returned.  Meanwhile, this warning can be suppressed, and the future behavior ensured, by passing a unique label to each axes instance.\n",
      "  plt.subplot(212)\n"
     ]
    },
    {
     "name": "stdout",
     "output_type": "stream",
     "text": [
      "一周在线时长不足10分钟\n",
      "\t45日平均消费额为0.023,45日总消费额为44527.180元\n",
      "\t7日平均消费额为0.006,7日总消费额为11151.310元\n",
      "\t7日氪金占比0.914%,45日氪金占比1.087%\n",
      "一周在线时长不足15分钟\n",
      "\t45日平均消费额为0.028,45日总消费额为57753.190元\n",
      "\t7日平均消费额为0.009,7日总消费额为18428.260元\n",
      "\t7日氪金占比1.510%,45日氪金占比1.410%\n"
     ]
    },
    {
     "name": "stderr",
     "output_type": "stream",
     "text": [
      "<ipython-input-45-bfecc245254c>:17: MatplotlibDeprecationWarning: Adding an axes using the same arguments as a previous axes currently reuses the earlier instance.  In a future version, a new instance will always be created and returned.  Meanwhile, this warning can be suppressed, and the future behavior ensured, by passing a unique label to each axes instance.\n",
      "  plt.subplot(211)\n",
      "<ipython-input-45-bfecc245254c>:23: MatplotlibDeprecationWarning: Adding an axes using the same arguments as a previous axes currently reuses the earlier instance.  In a future version, a new instance will always be created and returned.  Meanwhile, this warning can be suppressed, and the future behavior ensured, by passing a unique label to each axes instance.\n",
      "  plt.subplot(212)\n",
      "<ipython-input-45-bfecc245254c>:17: MatplotlibDeprecationWarning: Adding an axes using the same arguments as a previous axes currently reuses the earlier instance.  In a future version, a new instance will always be created and returned.  Meanwhile, this warning can be suppressed, and the future behavior ensured, by passing a unique label to each axes instance.\n",
      "  plt.subplot(211)\n"
     ]
    },
    {
     "name": "stdout",
     "output_type": "stream",
     "text": [
      "一周在线时长不足20分钟\n",
      "\t45日平均消费额为0.038,45日总消费额为79124.920元\n",
      "\t7日平均消费额为0.012,7日总消费额为25904.310元\n",
      "\t7日氪金占比2.123%,45日氪金占比1.931%\n",
      "一周在线时长不足25分钟\n",
      "\t45日平均消费额为0.044,45日总消费额为94650.110元\n",
      "\t7日平均消费额为0.016,7日总消费额为34217.390元\n",
      "\t7日氪金占比2.804%,45日氪金占比2.310%\n"
     ]
    },
    {
     "name": "stderr",
     "output_type": "stream",
     "text": [
      "<ipython-input-45-bfecc245254c>:23: MatplotlibDeprecationWarning: Adding an axes using the same arguments as a previous axes currently reuses the earlier instance.  In a future version, a new instance will always be created and returned.  Meanwhile, this warning can be suppressed, and the future behavior ensured, by passing a unique label to each axes instance.\n",
      "  plt.subplot(212)\n",
      "<ipython-input-45-bfecc245254c>:17: MatplotlibDeprecationWarning: Adding an axes using the same arguments as a previous axes currently reuses the earlier instance.  In a future version, a new instance will always be created and returned.  Meanwhile, this warning can be suppressed, and the future behavior ensured, by passing a unique label to each axes instance.\n",
      "  plt.subplot(211)\n",
      "<ipython-input-45-bfecc245254c>:23: MatplotlibDeprecationWarning: Adding an axes using the same arguments as a previous axes currently reuses the earlier instance.  In a future version, a new instance will always be created and returned.  Meanwhile, this warning can be suppressed, and the future behavior ensured, by passing a unique label to each axes instance.\n",
      "  plt.subplot(212)\n"
     ]
    },
    {
     "name": "stdout",
     "output_type": "stream",
     "text": [
      "一周在线时长不足30分钟\n",
      "\t45日平均消费额为0.050,45日总消费额为107763.140元\n",
      "\t7日平均消费额为0.019,7日总消费额为40862.200元\n",
      "\t7日氪金占比3.349%,45日氪金占比2.630%\n"
     ]
    },
    {
     "name": "stderr",
     "output_type": "stream",
     "text": [
      "<ipython-input-45-bfecc245254c>:17: MatplotlibDeprecationWarning: Adding an axes using the same arguments as a previous axes currently reuses the earlier instance.  In a future version, a new instance will always be created and returned.  Meanwhile, this warning can be suppressed, and the future behavior ensured, by passing a unique label to each axes instance.\n",
      "  plt.subplot(211)\n",
      "<ipython-input-45-bfecc245254c>:23: MatplotlibDeprecationWarning: Adding an axes using the same arguments as a previous axes currently reuses the earlier instance.  In a future version, a new instance will always be created and returned.  Meanwhile, this warning can be suppressed, and the future behavior ensured, by passing a unique label to each axes instance.\n",
      "  plt.subplot(212)\n"
     ]
    },
    {
     "data": {
      "image/png": "[encoded data removed]",
      "text/plain": [
       "<Figure size 1500x900 with 2 Axes>"
      ]
     },
     "metadata": {
      "needs_background": "light"
     },
     "output_type": "display_data"
    }
   ],
   "source": [
    "# 在线时长很少的玩家们贡献的氪金数额\n",
    "plt.figure(figsize=(15,9),dpi=100)\n",
    "for playtime in [1,5,10,15,20,25,30]:\n",
    "    \n",
    "    MeanPay45 = data.loc[data['在线时长']<playtime,'45日付费金额'].mean()\n",
    "    TotalPay45 = data.loc[data['在线时长']<playtime,'45日付费金额'].sum()\n",
    "    MeanPay7 = data.loc[data['在线时长']<playtime,'付费金额'].mean()\n",
    "    TotalPay7 = data.loc[data['在线时长']<playtime,'付费金额'].sum()\n",
    "    \n",
    "    print('一周在线时长不足{}分钟'.format(playtime))\n",
    "    print('\\t45日平均消费额为{:.3f},45日总消费额为{:.3f}元'.format(MeanPay45,TotalPay45))\n",
    "    print('\\t7日平均消费额为{:.3f},7日总消费额为{:.3f}元'.format(MeanPay7,TotalPay7))\n",
    "    print('\\t7日氪金占比{:.3f}%,45日氪金占比{:.3f}%'.format(100*TotalPay7/(data['付费金额'].sum())\n",
    "                                                            ,100*TotalPay45/(data['45日付费金额'].sum())))\n",
    "    \n",
    "    \n",
    "    plt.subplot(211)\n",
    "    plt.bar(playtime,100*TotalPay7/(data['付费金额'].sum()),color='pink')\n",
    "    plt.xlabel('一周在线时长不超过的时间（分钟）')\n",
    "    plt.ylabel('7日氪金占比(%)')\n",
    "    plt.hlines(2,0,32,colors='red',linestyles='dotted')\n",
    "    plt.ylim(0,3.5)\n",
    "    plt.subplot(212)\n",
    "    plt.bar(playtime,100*TotalPay45/(data['45日付费金额'].sum()),color='pink')\n",
    "    plt.xlabel('一周在线时长不超过的时间（分钟）')\n",
    "    plt.ylabel('45日氪金占比(%)')\n",
    "    plt.hlines(2,0,32,colors='red',linestyles='dotted')\n",
    "    plt.ylim(0,3.5)\n",
    "plt.show()"
   ]
  },
  {
   "cell_type": "code",
   "execution_count": 46,
   "metadata": {},
   "outputs": [
    {
     "data": {
      "text/html": [
       "<div>\n",
       "<style scoped>\n",
       "    .dataframe tbody tr th:only-of-type {\n",
       "        vertical-align: middle;\n",
       "    }\n",
       "\n",
       "    .dataframe tbody tr th {\n",
       "        vertical-align: top;\n",
       "    }\n",
       "\n",
       "    .dataframe thead th {\n",
       "        text-align: right;\n",
       "    }\n",
       "</style>\n",
       "<table border=\"1\" class=\"dataframe\">\n",
       "  <thead>\n",
       "    <tr style=\"text-align: right;\">\n",
       "      <th></th>\n",
       "      <th>count</th>\n",
       "      <th>mean</th>\n",
       "      <th>std</th>\n",
       "      <th>min</th>\n",
       "      <th>25%</th>\n",
       "      <th>50%</th>\n",
       "      <th>75%</th>\n",
       "      <th>max</th>\n",
       "    </tr>\n",
       "    <tr>\n",
       "      <th>字段解释</th>\n",
       "      <th></th>\n",
       "      <th></th>\n",
       "      <th></th>\n",
       "      <th></th>\n",
       "      <th></th>\n",
       "      <th></th>\n",
       "      <th></th>\n",
       "      <th></th>\n",
       "    </tr>\n",
       "  </thead>\n",
       "  <tbody>\n",
       "    <tr>\n",
       "      <th>玩家唯一ID</th>\n",
       "      <td>2288006.000</td>\n",
       "      <td>1529543.353</td>\n",
       "      <td>939939.459</td>\n",
       "      <td>1.000</td>\n",
       "      <td>749992.250</td>\n",
       "      <td>1419094.500</td>\n",
       "      <td>2299006.750</td>\n",
       "      <td>3190530.000</td>\n",
       "    </tr>\n",
       "    <tr>\n",
       "      <th>木头获取数量</th>\n",
       "      <td>2288006.000</td>\n",
       "      <td>453778.536</td>\n",
       "      <td>4893848.083</td>\n",
       "      <td>0.000</td>\n",
       "      <td>0.000</td>\n",
       "      <td>42038.000</td>\n",
       "      <td>153118.000</td>\n",
       "      <td>1239962311.000</td>\n",
       "    </tr>\n",
       "    <tr>\n",
       "      <th>木头消耗数量</th>\n",
       "      <td>2288006.000</td>\n",
       "      <td>369532.509</td>\n",
       "      <td>3708048.725</td>\n",
       "      <td>0.000</td>\n",
       "      <td>0.000</td>\n",
       "      <td>9830.000</td>\n",
       "      <td>98557.000</td>\n",
       "      <td>799587506.000</td>\n",
       "    </tr>\n",
       "    <tr>\n",
       "      <th>石头获取数量</th>\n",
       "      <td>2288006.000</td>\n",
       "      <td>189268.261</td>\n",
       "      <td>4606342.087</td>\n",
       "      <td>0.000</td>\n",
       "      <td>0.000</td>\n",
       "      <td>0.000</td>\n",
       "      <td>0.000</td>\n",
       "      <td>1214869437.000</td>\n",
       "    </tr>\n",
       "    <tr>\n",
       "      <th>石头消耗数量</th>\n",
       "      <td>2288006.000</td>\n",
       "      <td>137308.307</td>\n",
       "      <td>3339670.633</td>\n",
       "      <td>0.000</td>\n",
       "      <td>0.000</td>\n",
       "      <td>0.000</td>\n",
       "      <td>0.000</td>\n",
       "      <td>796237770.000</td>\n",
       "    </tr>\n",
       "    <tr>\n",
       "      <th>...</th>\n",
       "      <td>...</td>\n",
       "      <td>...</td>\n",
       "      <td>...</td>\n",
       "      <td>...</td>\n",
       "      <td>...</td>\n",
       "      <td>...</td>\n",
       "      <td>...</td>\n",
       "      <td>...</td>\n",
       "    </tr>\n",
       "    <tr>\n",
       "      <th>PVE胜利次数</th>\n",
       "      <td>2288006.000</td>\n",
       "      <td>2.557</td>\n",
       "      <td>11.847</td>\n",
       "      <td>0.000</td>\n",
       "      <td>0.000</td>\n",
       "      <td>0.000</td>\n",
       "      <td>1.000</td>\n",
       "      <td>488.000</td>\n",
       "    </tr>\n",
       "    <tr>\n",
       "      <th>在线时长</th>\n",
       "      <td>2288006.000</td>\n",
       "      <td>10.207</td>\n",
       "      <td>38.959</td>\n",
       "      <td>0.000</td>\n",
       "      <td>0.500</td>\n",
       "      <td>1.833</td>\n",
       "      <td>4.833</td>\n",
       "      <td>2049.667</td>\n",
       "    </tr>\n",
       "    <tr>\n",
       "      <th>付费金额</th>\n",
       "      <td>2288006.000</td>\n",
       "      <td>0.533</td>\n",
       "      <td>22.542</td>\n",
       "      <td>0.000</td>\n",
       "      <td>0.000</td>\n",
       "      <td>0.000</td>\n",
       "      <td>0.000</td>\n",
       "      <td>7457.950</td>\n",
       "    </tr>\n",
       "    <tr>\n",
       "      <th>付费次数</th>\n",
       "      <td>2288006.000</td>\n",
       "      <td>0.058</td>\n",
       "      <td>0.708</td>\n",
       "      <td>0.000</td>\n",
       "      <td>0.000</td>\n",
       "      <td>0.000</td>\n",
       "      <td>0.000</td>\n",
       "      <td>105.000</td>\n",
       "    </tr>\n",
       "    <tr>\n",
       "      <th>45日付费金额</th>\n",
       "      <td>2288006.000</td>\n",
       "      <td>1.791</td>\n",
       "      <td>88.383</td>\n",
       "      <td>0.000</td>\n",
       "      <td>0.000</td>\n",
       "      <td>0.000</td>\n",
       "      <td>0.000</td>\n",
       "      <td>32977.810</td>\n",
       "    </tr>\n",
       "  </tbody>\n",
       "</table>\n",
       "<p>108 rows × 8 columns</p>\n",
       "</div>"
      ],
      "text/plain": [
       "              count        mean         std   min        25%         50%  \\\n",
       "字段解释                                                                       \n",
       "玩家唯一ID  2288006.000 1529543.353  939939.459 1.000 749992.250 1419094.500   \n",
       "木头获取数量  2288006.000  453778.536 4893848.083 0.000      0.000   42038.000   \n",
       "木头消耗数量  2288006.000  369532.509 3708048.725 0.000      0.000    9830.000   \n",
       "石头获取数量  2288006.000  189268.261 4606342.087 0.000      0.000       0.000   \n",
       "石头消耗数量  2288006.000  137308.307 3339670.633 0.000      0.000       0.000   \n",
       "...             ...         ...         ...   ...        ...         ...   \n",
       "PVE胜利次数 2288006.000       2.557      11.847 0.000      0.000       0.000   \n",
       "在线时长    2288006.000      10.207      38.959 0.000      0.500       1.833   \n",
       "付费金额    2288006.000       0.533      22.542 0.000      0.000       0.000   \n",
       "付费次数    2288006.000       0.058       0.708 0.000      0.000       0.000   \n",
       "45日付费金额 2288006.000       1.791      88.383 0.000      0.000       0.000   \n",
       "\n",
       "                75%            max  \n",
       "字段解释                                \n",
       "玩家唯一ID  2299006.750    3190530.000  \n",
       "木头获取数量   153118.000 1239962311.000  \n",
       "木头消耗数量    98557.000  799587506.000  \n",
       "石头获取数量        0.000 1214869437.000  \n",
       "石头消耗数量        0.000  796237770.000  \n",
       "...             ...            ...  \n",
       "PVE胜利次数       1.000        488.000  \n",
       "在线时长          4.833       2049.667  \n",
       "付费金额          0.000       7457.950  \n",
       "付费次数          0.000        105.000  \n",
       "45日付费金额       0.000      32977.810  \n",
       "\n",
       "[108 rows x 8 columns]"
      ]
     },
     "execution_count": 46,
     "metadata": {},
     "output_type": "execute_result"
    }
   ],
   "source": [
    "data.describe().T"
   ]
  },
  {
   "cell_type": "code",
   "execution_count": 47,
   "metadata": {},
   "outputs": [],
   "source": [
    "# 资源使用情况\n",
    "dataA = data[(data['在线时长']>=20)&(data['建筑：要塞等级']>=10)]\n",
    "dataB = data[(data['在线时长']>=20)&(data['建筑：要塞等级']<10)]\n",
    "A1 = dataA[dataA['付费金额']!=0]#高端付费用户\n",
    "A2 = dataA[dataA['付费金额']==0]#高端免费用户\n",
    "B1 = dataB[dataB['付费金额']!=0]#普通活跃付费用户\n",
    "B2 = dataB[dataB['付费金额']==0]#普通活跃免费用户"
   ]
  },
  {
   "cell_type": "code",
   "execution_count": 48,
   "metadata": {},
   "outputs": [
    {
     "data": {
      "text/html": [
       "<div>\n",
       "<style scoped>\n",
       "    .dataframe tbody tr th:only-of-type {\n",
       "        vertical-align: middle;\n",
       "    }\n",
       "\n",
       "    .dataframe tbody tr th {\n",
       "        vertical-align: top;\n",
       "    }\n",
       "\n",
       "    .dataframe thead th {\n",
       "        text-align: right;\n",
       "    }\n",
       "</style>\n",
       "<table border=\"1\" class=\"dataframe\">\n",
       "  <thead>\n",
       "    <tr style=\"text-align: right;\">\n",
       "      <th></th>\n",
       "      <th>木头使用率</th>\n",
       "      <th>肉使用率</th>\n",
       "      <th>石头使用率</th>\n",
       "      <th>魔法使用率</th>\n",
       "      <th>象牙使用率</th>\n",
       "    </tr>\n",
       "  </thead>\n",
       "  <tbody>\n",
       "    <tr>\n",
       "      <th>0</th>\n",
       "      <td>0.851</td>\n",
       "      <td>0.801</td>\n",
       "      <td>0.652</td>\n",
       "      <td>0.738</td>\n",
       "      <td>0.647</td>\n",
       "    </tr>\n",
       "    <tr>\n",
       "      <th>1</th>\n",
       "      <td>0.928</td>\n",
       "      <td>0.886</td>\n",
       "      <td>0.724</td>\n",
       "      <td>0.604</td>\n",
       "      <td>0.248</td>\n",
       "    </tr>\n",
       "    <tr>\n",
       "      <th>2</th>\n",
       "      <td>0.837</td>\n",
       "      <td>0.634</td>\n",
       "      <td>0.593</td>\n",
       "      <td>0.682</td>\n",
       "      <td>0.108</td>\n",
       "    </tr>\n",
       "    <tr>\n",
       "      <th>3</th>\n",
       "      <td>0.885</td>\n",
       "      <td>0.691</td>\n",
       "      <td>0.669</td>\n",
       "      <td>0.710</td>\n",
       "      <td>0.022</td>\n",
       "    </tr>\n",
       "  </tbody>\n",
       "</table>\n",
       "</div>"
      ],
      "text/plain": [
       "   木头使用率  肉使用率  石头使用率  魔法使用率  象牙使用率\n",
       "0  0.851 0.801  0.652  0.738  0.647\n",
       "1  0.928 0.886  0.724  0.604  0.248\n",
       "2  0.837 0.634  0.593  0.682  0.108\n",
       "3  0.885 0.691  0.669  0.710  0.022"
      ]
     },
     "execution_count": 48,
     "metadata": {},
     "output_type": "execute_result"
    }
   ],
   "source": [
    "mutoup = []\n",
    "shitoup = []\n",
    "roup = []\n",
    "mofap = []\n",
    "xiangyap = []\n",
    "for i in [A1,A2,B1,B2]:\n",
    "        mutoup.append(i['木头消耗数量'].sum()/i['木头获取数量'].sum())\n",
    "        shitoup.append(i['肉消耗数量'].sum()/i['肉获取数量'].sum())\n",
    "        roup.append(i['石头消耗数量'].sum()/i['石头获取数量'].sum())\n",
    "        mofap.append(i['魔法消耗数量'].sum()/i['魔法获取数量'].sum())\n",
    "        xiangyap.append(i['象牙消耗数量'].sum()/i['象牙获取数量'].sum())\n",
    "ziyuanp = pd.concat([pd.DataFrame(mutoup),pd.DataFrame(roup),pd.DataFrame(shitoup),pd.DataFrame(mofap),pd.DataFrame(xiangyap)],axis=1)\n",
    "ziyuanp.columns = ['木头使用率','肉使用率','石头使用率','魔法使用率','象牙使用率']\n",
    "ziyuanp"
   ]
  },
  {
   "cell_type": "code",
   "execution_count": 49,
   "metadata": {},
   "outputs": [
    {
     "data": {
      "text/html": [
       "<div>\n",
       "<style scoped>\n",
       "    .dataframe tbody tr th:only-of-type {\n",
       "        vertical-align: middle;\n",
       "    }\n",
       "\n",
       "    .dataframe tbody tr th {\n",
       "        vertical-align: top;\n",
       "    }\n",
       "\n",
       "    .dataframe thead th {\n",
       "        text-align: right;\n",
       "    }\n",
       "</style>\n",
       "<table border=\"1\" class=\"dataframe\">\n",
       "  <thead>\n",
       "    <tr style=\"text-align: right;\">\n",
       "      <th></th>\n",
       "      <th>通用加速使用率</th>\n",
       "      <th>科研加速使用率</th>\n",
       "      <th>建筑加速使用率</th>\n",
       "      <th>训练加速使用率</th>\n",
       "      <th>治疗加速使用率</th>\n",
       "    </tr>\n",
       "  </thead>\n",
       "  <tbody>\n",
       "    <tr>\n",
       "      <th>0</th>\n",
       "      <td>0.825</td>\n",
       "      <td>0.831</td>\n",
       "      <td>0.927</td>\n",
       "      <td>0.727</td>\n",
       "      <td>0.136</td>\n",
       "    </tr>\n",
       "    <tr>\n",
       "      <th>1</th>\n",
       "      <td>0.780</td>\n",
       "      <td>0.683</td>\n",
       "      <td>0.854</td>\n",
       "      <td>0.523</td>\n",
       "      <td>0.050</td>\n",
       "    </tr>\n",
       "    <tr>\n",
       "      <th>2</th>\n",
       "      <td>0.570</td>\n",
       "      <td>0.545</td>\n",
       "      <td>0.682</td>\n",
       "      <td>0.386</td>\n",
       "      <td>0.037</td>\n",
       "    </tr>\n",
       "    <tr>\n",
       "      <th>3</th>\n",
       "      <td>0.593</td>\n",
       "      <td>0.475</td>\n",
       "      <td>0.724</td>\n",
       "      <td>0.296</td>\n",
       "      <td>0.007</td>\n",
       "    </tr>\n",
       "  </tbody>\n",
       "</table>\n",
       "</div>"
      ],
      "text/plain": [
       "   通用加速使用率  科研加速使用率  建筑加速使用率  训练加速使用率  治疗加速使用率\n",
       "0    0.825    0.831    0.927    0.727    0.136\n",
       "1    0.780    0.683    0.854    0.523    0.050\n",
       "2    0.570    0.545    0.682    0.386    0.037\n",
       "3    0.593    0.475    0.724    0.296    0.007"
      ]
     },
     "execution_count": 49,
     "metadata": {},
     "output_type": "execute_result"
    }
   ],
   "source": [
    "tongyong = []\n",
    "keyan = []\n",
    "jianzhu = []\n",
    "xunlian = []\n",
    "zhiliao = []\n",
    "for i in [A1,A2,B1,B2]:\n",
    "        tongyong.append(i['通用加速使用数量'].sum()/i['通用加速获取数量'].sum())\n",
    "        keyan.append(i['科研加速使用数量'].sum()/i['科研加速获取数量'].sum())\n",
    "        jianzhu.append(i['建筑加速使用数量'].sum()/i['建筑加速获取数量'].sum())\n",
    "        xunlian.append(i['训练加速使用数量'].sum()/i['训练加速获取数量'].sum())\n",
    "        zhiliao.append(i['治疗加速使用数量'].sum()/i['治疗加速获取数量'].sum())\n",
    "\n",
    "jiasu = pd.concat([pd.DataFrame(tongyong),pd.DataFrame(keyan),pd.DataFrame(jianzhu),pd.DataFrame(xunlian),pd.DataFrame(zhiliao)],axis=1)\n",
    "jiasu.columns = ['通用加速使用率','科研加速使用率','建筑加速使用率','训练加速使用率','治疗加速使用率']\n",
    "jiasu"
   ]
  },
  {
   "cell_type": "code",
   "execution_count": 50,
   "metadata": {},
   "outputs": [
    {
     "data": {
      "text/html": [
       "<div>\n",
       "<style scoped>\n",
       "    .dataframe tbody tr th:only-of-type {\n",
       "        vertical-align: middle;\n",
       "    }\n",
       "\n",
       "    .dataframe tbody tr th {\n",
       "        vertical-align: top;\n",
       "    }\n",
       "\n",
       "    .dataframe thead th {\n",
       "        text-align: right;\n",
       "    }\n",
       "</style>\n",
       "<table border=\"1\" class=\"dataframe\">\n",
       "  <thead>\n",
       "    <tr style=\"text-align: right;\">\n",
       "      <th></th>\n",
       "      <th>PVP主动发起率</th>\n",
       "      <th>PVP胜率</th>\n",
       "      <th>PVE主动发起率</th>\n",
       "      <th>PVE胜率</th>\n",
       "    </tr>\n",
       "  </thead>\n",
       "  <tbody>\n",
       "    <tr>\n",
       "      <th>0</th>\n",
       "      <td>0.753</td>\n",
       "      <td>0.806</td>\n",
       "      <td>0.993</td>\n",
       "      <td>0.919</td>\n",
       "    </tr>\n",
       "    <tr>\n",
       "      <th>1</th>\n",
       "      <td>0.744</td>\n",
       "      <td>0.780</td>\n",
       "      <td>0.992</td>\n",
       "      <td>0.932</td>\n",
       "    </tr>\n",
       "    <tr>\n",
       "      <th>2</th>\n",
       "      <td>0.596</td>\n",
       "      <td>0.618</td>\n",
       "      <td>0.997</td>\n",
       "      <td>0.906</td>\n",
       "    </tr>\n",
       "    <tr>\n",
       "      <th>3</th>\n",
       "      <td>0.545</td>\n",
       "      <td>0.503</td>\n",
       "      <td>0.997</td>\n",
       "      <td>0.890</td>\n",
       "    </tr>\n",
       "  </tbody>\n",
       "</table>\n",
       "</div>"
      ],
      "text/plain": [
       "   PVP主动发起率  PVP胜率  PVE主动发起率  PVE胜率\n",
       "0     0.753  0.806     0.993  0.919\n",
       "1     0.744  0.780     0.992  0.932\n",
       "2     0.596  0.618     0.997  0.906\n",
       "3     0.545  0.503     0.997  0.890"
      ]
     },
     "execution_count": 50,
     "metadata": {},
     "output_type": "execute_result"
    }
   ],
   "source": [
    "PVP = []\n",
    "PVPV = []\n",
    "PVE = []\n",
    "PVEV = []\n",
    "\n",
    "for i in [A1,A2,B1,B2]:\n",
    "        PVP.append(i['主动发起PVP次数'].sum()/i['PVP次数'].sum())\n",
    "        PVPV.append(i['PVP胜利次数'].sum()/i['PVP次数'].sum())\n",
    "        PVE.append(i['主动发起PVE次数'].sum()/i['PVE次数'].sum())\n",
    "        PVEV.append(i['PVE胜利次数'].sum()/i['PVE次数'].sum())\n",
    "PV = pd.concat([pd.DataFrame(PVP),pd.DataFrame(PVPV),pd.DataFrame(PVE),pd.DataFrame(PVEV)],axis=1)\n",
    "PV.columns = ['PVP主动发起率','PVP胜率','PVE主动发起率','PVE胜率']\n",
    "PV"
   ]
  },
  {
   "cell_type": "code",
   "execution_count": 51,
   "metadata": {},
   "outputs": [],
   "source": [
    "#异常值\n",
    "NumOfSamples = data.shape[0]\n",
    "abnormal = pd.DataFrame()\n",
    "DataNoAbnormal = data.copy()\n",
    "BoxAbnormalIdx = [] #保存异常值的索引\n",
    "for idx,column in enumerate(data.columns[2:-1]):\n",
    "    feature = data.loc[:,column]\n",
    "    QL = np.quantile(feature,0.25)\n",
    "    QU = np.quantile(feature,0.75)\n",
    "    IQU = QU - QL\n",
    "    ab = feature[((feature < (QL - 1.5*IQU)).astype(int) + (feature > (QU+1.5*IQU)).astype(int))!=0]\n",
    "    BoxAbnormalIdx.extend(ab.index)\n",
    "    abnormal.loc[idx,'特征'] = column\n",
    "    abnormal.loc[idx,'异常值数量'] = ab.shape[0]\n",
    "    abnormal.loc[idx,'异常值比例'] = '{:.3f}%'.format(ab.shape[0]*100/NumOfSamples)"
   ]
  },
  {
   "cell_type": "code",
   "execution_count": 52,
   "metadata": {},
   "outputs": [
    {
     "data": {
      "text/plain": [
       "1123705"
      ]
     },
     "execution_count": 52,
     "metadata": {},
     "output_type": "execute_result"
    }
   ],
   "source": [
    "# 去重\n",
    "BoxAbnormalIdx=set(BoxAbnormalIdx)\n",
    "len(BoxAbnormalIdx)"
   ]
  },
  {
   "cell_type": "code",
   "execution_count": 53,
   "metadata": {},
   "outputs": [
    {
     "data": {
      "text/plain": [
       "41438"
      ]
     },
     "execution_count": 53,
     "metadata": {},
     "output_type": "execute_result"
    }
   ],
   "source": [
    "# 异常用户中前7日付费用户的数量\n",
    "(data.loc[BoxAbnormalIdx,'付费金额']!=0).sum()"
   ]
  },
  {
   "cell_type": "code",
   "execution_count": 54,
   "metadata": {},
   "outputs": [
    {
     "data": {
      "text/plain": [
       "41438"
      ]
     },
     "execution_count": 54,
     "metadata": {},
     "output_type": "execute_result"
    }
   ],
   "source": [
    "# 前7日所有付费用户的数量\n",
    "(data.loc[:,'付费金额']!=0).sum()"
   ]
  },
  {
   "cell_type": "code",
   "execution_count": 55,
   "metadata": {},
   "outputs": [
    {
     "data": {
      "text/plain": [
       "45987"
      ]
     },
     "execution_count": 55,
     "metadata": {},
     "output_type": "execute_result"
    }
   ],
   "source": [
    "# 前45日所有付费用户的数量\n",
    "(data.loc[:,'45日付费金额']!=0).sum()"
   ]
  },
  {
   "cell_type": "code",
   "execution_count": 56,
   "metadata": {},
   "outputs": [],
   "source": [
    "import pandas as pd\n",
    "import numpy as np\n",
    "import matplotlib.pyplot as plt\n",
    "import sklearn\n",
    "from sklearn.linear_model import LinearRegression as LR\n",
    "from sklearn.model_selection import train_test_split as TTS\n",
    "from sklearn.metrics import mean_squared_error as MSE\n",
    "%matplotlib inline\n",
    "plt.rcParams['font.sans-serif'] = ['Simhei']\n",
    "plt.rcParams['axes.unicode_minus'] = False"
   ]
  },
  {
   "cell_type": "code",
   "execution_count": 57,
   "metadata": {},
   "outputs": [],
   "source": [
    "import time\n",
    "import datetime"
   ]
  },
  {
   "cell_type": "code",
   "execution_count": 58,
   "metadata": {},
   "outputs": [],
   "source": [
    "RegisterDate = data.loc[:,'玩家注册时间'].apply(lambda x:x[:10])"
   ]
  },
  {
   "cell_type": "code",
   "execution_count": 59,
   "metadata": {},
   "outputs": [
    {
     "data": {
      "image/png": "[encoded data removed]",
      "text/plain": [
       "<Figure size 1500x300 with 1 Axes>"
      ]
     },
     "metadata": {
      "needs_background": "light"
     },
     "output_type": "display_data"
    }
   ],
   "source": [
    "# 按照玩家注册日期对氪金玩家7日付费金额进行聚合平均计算\n",
    "RegisterDateMean = data['付费金额'].groupby(RegisterDate).mean()\n",
    "plt.figure(figsize=(15,3),dpi=100)\n",
    "plt.title('不同注册日期的用户氪金均值')\n",
    "plt.bar(RegisterDateMean.index,RegisterDateMean.values)\n",
    "plt.xticks(RegisterDateMean.index,rotation=60,ha='right')\n",
    "plt.show()"
   ]
  },
  {
   "cell_type": "code",
   "execution_count": 60,
   "metadata": {},
   "outputs": [
    {
     "data": {
      "image/png": "[encoded data removed]",
      "text/plain": [
       "<Figure size 1500x300 with 1 Axes>"
      ]
     },
     "metadata": {
      "needs_background": "light"
     },
     "output_type": "display_data"
    }
   ],
   "source": [
    "# 按照玩家注册日期对氪金玩家7日付费金额进行聚合\n",
    "RegisterDateSum = data['付费金额'].groupby(RegisterDate).sum()\n",
    "RegisterDatePlaySum = data['付费金额'].groupby(RegisterDate).count()\n",
    "#绘制图像\n",
    "plt.figure(figsize=(15,3),dpi=100)\n",
    "plt.plot(RegisterDatePlaySum.index,RegisterDatePlaySum.values)\n",
    "\n",
    "plt.title('不同注册日期的用户注册数量与付费总金额')\n",
    "plt.bar(RegisterDateSum.index,RegisterDateSum.values)\n",
    "plt.xticks(RegisterDateSum.index,rotation=60,ha='right')\n",
    "plt.show()"
   ]
  },
  {
   "cell_type": "code",
   "execution_count": 61,
   "metadata": {},
   "outputs": [],
   "source": [
    "RegisterWeekDay = data.loc[:,'玩家注册时间'].apply(lambda x : datetime.datetime.strptime(x[:10],'%Y-%m-%d').weekday()+1)"
   ]
  },
  {
   "cell_type": "code",
   "execution_count": 62,
   "metadata": {},
   "outputs": [],
   "source": [
    "RegisterWeekDayMean = data['付费金额'].groupby(RegisterWeekDay).mean()"
   ]
  },
  {
   "cell_type": "code",
   "execution_count": 63,
   "metadata": {},
   "outputs": [
    {
     "data": {
      "image/png": "[encoded data removed]",
      "text/plain": [
       "<Figure size 400x400 with 1 Axes>"
      ]
     },
     "metadata": {
      "needs_background": "light"
     },
     "output_type": "display_data"
    }
   ],
   "source": [
    "plt.figure(figsize=(4,4),dpi=100)\n",
    "plt.title('不同注册日期（星期）的用户氪金均值')\n",
    "plt.bar(RegisterWeekDayMean.index,RegisterWeekDayMean.values)\n",
    "plt.xticks(RegisterWeekDayMean.index,ha='right')\n",
    "plt.show()"
   ]
  },
  {
   "cell_type": "code",
   "execution_count": 64,
   "metadata": {},
   "outputs": [
    {
     "data": {
      "text/html": [
       "<div>\n",
       "<style scoped>\n",
       "    .dataframe tbody tr th:only-of-type {\n",
       "        vertical-align: middle;\n",
       "    }\n",
       "\n",
       "    .dataframe tbody tr th {\n",
       "        vertical-align: top;\n",
       "    }\n",
       "\n",
       "    .dataframe thead th {\n",
       "        text-align: right;\n",
       "    }\n",
       "</style>\n",
       "<table border=\"1\" class=\"dataframe\">\n",
       "  <thead>\n",
       "    <tr style=\"text-align: right;\">\n",
       "      <th></th>\n",
       "      <th>45日付费金额</th>\n",
       "      <th>玩家注册时间</th>\n",
       "    </tr>\n",
       "  </thead>\n",
       "  <tbody>\n",
       "    <tr>\n",
       "      <th>45日付费金额</th>\n",
       "      <td>1.000</td>\n",
       "      <td>0.000</td>\n",
       "    </tr>\n",
       "    <tr>\n",
       "      <th>玩家注册时间</th>\n",
       "      <td>0.000</td>\n",
       "      <td>1.000</td>\n",
       "    </tr>\n",
       "  </tbody>\n",
       "</table>\n",
       "</div>"
      ],
      "text/plain": [
       "         45日付费金额  玩家注册时间\n",
       "45日付费金额    1.000   0.000\n",
       "玩家注册时间     0.000   1.000"
      ]
     },
     "execution_count": 64,
     "metadata": {},
     "output_type": "execute_result"
    }
   ],
   "source": [
    "pd.concat([data['45日付费金额'],RegisterWeekDay],axis=1).corr()"
   ]
  },
  {
   "cell_type": "code",
   "execution_count": 65,
   "metadata": {},
   "outputs": [
    {
     "data": {
      "text/plain": [
       "0          19\n",
       "1           0\n",
       "2           0\n",
       "3           0\n",
       "4           0\n",
       "           ..\n",
       "2288002    14\n",
       "2288003    14\n",
       "2288004    14\n",
       "2288005    14\n",
       "2288006    14\n",
       "Name: 玩家注册时间, Length: 2288006, dtype: int64"
      ]
     },
     "execution_count": 65,
     "metadata": {},
     "output_type": "execute_result"
    }
   ],
   "source": [
    "# 提取小时作为特征\n",
    "RegisterTime = data.loc[:,'玩家注册时间'].apply(lambda x : int(x[11:13]))\n",
    "RegisterTime"
   ]
  },
  {
   "cell_type": "code",
   "execution_count": 66,
   "metadata": {},
   "outputs": [],
   "source": [
    "RegisterTimeMean = data['付费金额'].groupby(RegisterTime).mean()"
   ]
  },
  {
   "cell_type": "code",
   "execution_count": 67,
   "metadata": {},
   "outputs": [
    {
     "data": {
      "image/png": "[encoded data removed]",
      "text/plain": [
       "<Figure size 1500x300 with 1 Axes>"
      ]
     },
     "metadata": {
      "needs_background": "light"
     },
     "output_type": "display_data"
    }
   ],
   "source": [
    "plt.figure(figsize=(15,3),dpi=100)\n",
    "plt.title('不同注册时刻的用户氪金均值')\n",
    "plt.bar(RegisterTimeMean.index,RegisterTimeMean.values)\n",
    "plt.xticks(RegisterTimeMean.index,ha='right')\n",
    "plt.show()"
   ]
  },
  {
   "cell_type": "code",
   "execution_count": 68,
   "metadata": {},
   "outputs": [
    {
     "data": {
      "text/html": [
       "<div>\n",
       "<style scoped>\n",
       "    .dataframe tbody tr th:only-of-type {\n",
       "        vertical-align: middle;\n",
       "    }\n",
       "\n",
       "    .dataframe tbody tr th {\n",
       "        vertical-align: top;\n",
       "    }\n",
       "\n",
       "    .dataframe thead th {\n",
       "        text-align: right;\n",
       "    }\n",
       "</style>\n",
       "<table border=\"1\" class=\"dataframe\">\n",
       "  <thead>\n",
       "    <tr style=\"text-align: right;\">\n",
       "      <th></th>\n",
       "      <th>45日付费金额</th>\n",
       "      <th>玩家注册时间</th>\n",
       "    </tr>\n",
       "  </thead>\n",
       "  <tbody>\n",
       "    <tr>\n",
       "      <th>45日付费金额</th>\n",
       "      <td>1.000</td>\n",
       "      <td>0.001</td>\n",
       "    </tr>\n",
       "    <tr>\n",
       "      <th>玩家注册时间</th>\n",
       "      <td>0.001</td>\n",
       "      <td>1.000</td>\n",
       "    </tr>\n",
       "  </tbody>\n",
       "</table>\n",
       "</div>"
      ],
      "text/plain": [
       "         45日付费金额  玩家注册时间\n",
       "45日付费金额    1.000   0.001\n",
       "玩家注册时间     0.001   1.000"
      ]
     },
     "execution_count": 68,
     "metadata": {},
     "output_type": "execute_result"
    }
   ],
   "source": [
    "pd.concat([data['45日付费金额'],RegisterTime],axis=1).corr()"
   ]
  },
  {
   "cell_type": "code",
   "execution_count": 69,
   "metadata": {},
   "outputs": [],
   "source": [
    "# 修改特征\n",
    "# 增加'玩家注册时刻(小时)'列\n",
    "data.insert(data.shape[1]-1,'玩家注册时刻',RegisterTime)\n",
    "# 删除玩家ID列，不是有助于建模的特征\n",
    "data.drop(columns=['玩家注册时间','玩家唯一ID'],inplace=True)"
   ]
  },
  {
   "cell_type": "code",
   "execution_count": 70,
   "metadata": {},
   "outputs": [],
   "source": [
    "X = data.iloc[:,:-1]\n",
    "y = data.iloc[:,-1]"
   ]
  },
  {
   "cell_type": "code",
   "execution_count": 71,
   "metadata": {},
   "outputs": [],
   "source": [
    "from sklearn.linear_model import LinearRegression as LR\n",
    "from sklearn.model_selection import train_test_split as TTS \n",
    "from sklearn.metrics import mean_squared_error as MSE"
   ]
  },
  {
   "cell_type": "code",
   "execution_count": 72,
   "metadata": {},
   "outputs": [],
   "source": [
    "#数据集分割\n",
    "Xtrain,Xtest,Ytrain,Ytest = TTS(X,y,test_size=0.3,random_state=1412)"
   ]
  },
  {
   "cell_type": "code",
   "execution_count": 73,
   "metadata": {},
   "outputs": [],
   "source": [
    "#恢复索引\n",
    "for i in [Xtrain,Xtest]:\n",
    "    i.index = range(i.shape[0])"
   ]
  },
  {
   "cell_type": "code",
   "execution_count": 74,
   "metadata": {},
   "outputs": [],
   "source": [
    "reg = LR()\n",
    "reg_benchmark = reg.fit(Xtrain,Ytrain)"
   ]
  },
  {
   "cell_type": "code",
   "execution_count": 75,
   "metadata": {},
   "outputs": [
    {
     "data": {
      "text/plain": [
       "0.6091059703706903"
      ]
     },
     "execution_count": 75,
     "metadata": {},
     "output_type": "execute_result"
    }
   ],
   "source": [
    "reg_benchmark.score(Xtrain,Ytrain)"
   ]
  },
  {
   "cell_type": "code",
   "execution_count": 76,
   "metadata": {},
   "outputs": [
    {
     "data": {
      "text/plain": [
       "0.4485863822206694"
      ]
     },
     "execution_count": 76,
     "metadata": {},
     "output_type": "execute_result"
    }
   ],
   "source": [
    "reg_benchmark.score(Xtest,Ytest)"
   ]
  },
  {
   "cell_type": "code",
   "execution_count": 77,
   "metadata": {},
   "outputs": [],
   "source": [
    "#测试集上的预测标签\n",
    "y_pred = reg_benchmark.predict(Xtest)"
   ]
  },
  {
   "cell_type": "code",
   "execution_count": 78,
   "metadata": {},
   "outputs": [
    {
     "data": {
      "text/plain": [
       "68.90042171868357"
      ]
     },
     "execution_count": 78,
     "metadata": {},
     "output_type": "execute_result"
    }
   ],
   "source": [
    "# RMSE\n",
    "np.sqrt(MSE(Ytest,y_pred))"
   ]
  },
  {
   "cell_type": "code",
   "execution_count": 79,
   "metadata": {},
   "outputs": [],
   "source": [
    "#发育——关于资源的部分\n",
    "GrowthFeature = []\n",
    "for i in X.columns:\n",
    "    if '招募' in i:\n",
    "        GrowthFeature.append(i)\n",
    "    elif '获取' in i:\n",
    "        GrowthFeature.append(i)"
   ]
  },
  {
   "cell_type": "code",
   "execution_count": 80,
   "metadata": {},
   "outputs": [],
   "source": [
    "#等级——关于技能的部分\n",
    "LevelUpFeature = []\n",
    "for i in X.columns:\n",
    "    if '建筑' in i:\n",
    "        LevelUpFeature.append(i)\n",
    "    elif '科研' in i:\n",
    "        LevelUpFeature.append(i)"
   ]
  },
  {
   "cell_type": "code",
   "execution_count": 81,
   "metadata": {},
   "outputs": [],
   "source": [
    "X['PVP胜率'] = X['PVP胜利次数']/X['PVP次数']\n",
    "X['主动发起PVP的概率'] = X['主动发起PVP次数']/X['PVP次数']\n",
    "\n",
    "X['玩家发育效率'] = X.loc[:,GrowthFeature].mean(axis=1)/X['在线时长']\n",
    "X['氪金发育效率'] = X.loc[:,GrowthFeature].mean(axis=1)/X['付费金额']\n",
    "X['玩家升级效率'] = X.loc[:,LevelUpFeature].mean(axis=1)/X['在线时长']\n",
    "X['氪金升级效率'] = X.loc[:,LevelUpFeature].mean(axis=1)/X['付费金额']\n",
    "\n",
    "X['象牙消耗率'] = X['象牙消耗数量']/X['象牙获取数量']\n",
    "\n",
    "X['科研加速使用率'] = X['科研加速使用数量']/X['科研加速获取数量']\n",
    "X['训练加速使用率'] = X['训练加速使用数量']/X['训练加速获取数量']\n",
    "X['治疗加速使用率'] = X['治疗加速使用数量']/X['治疗加速获取数量']\n",
    "X['建筑加速使用率'] = X['建筑加速使用数量']/X['建筑加速获取数量']"
   ]
  },
  {
   "cell_type": "code",
   "execution_count": 82,
   "metadata": {},
   "outputs": [
    {
     "data": {
      "text/plain": [
       "1712305"
      ]
     },
     "execution_count": 82,
     "metadata": {},
     "output_type": "execute_result"
    }
   ],
   "source": [
    "X['PVP胜率'].isnull().sum()"
   ]
  },
  {
   "cell_type": "code",
   "execution_count": 83,
   "metadata": {},
   "outputs": [
    {
     "data": {
      "text/plain": [
       "count   1665562.000\n",
       "mean            inf\n",
       "std             nan\n",
       "min           0.000\n",
       "25%             inf\n",
       "50%             inf\n",
       "75%             inf\n",
       "max             inf\n",
       "Name: 氪金发育效率, dtype: float64"
      ]
     },
     "execution_count": 83,
     "metadata": {},
     "output_type": "execute_result"
    }
   ],
   "source": [
    "X['氪金发育效率'].describe()"
   ]
  },
  {
   "cell_type": "code",
   "execution_count": 84,
   "metadata": {},
   "outputs": [
    {
     "data": {
      "text/plain": [
       "count   2288006.000\n",
       "mean          8.264\n",
       "std          76.671\n",
       "min           0.000\n",
       "25%           0.000\n",
       "50%           0.754\n",
       "75%           6.174\n",
       "max       20363.493\n",
       "dtype: float64"
      ]
     },
     "execution_count": 84,
     "metadata": {},
     "output_type": "execute_result"
    }
   ],
   "source": [
    "X.loc[:,LevelUpFeature].mean(axis=1).describe()"
   ]
  },
  {
   "cell_type": "code",
   "execution_count": 85,
   "metadata": {},
   "outputs": [],
   "source": [
    "# 处理除0错误，处理极值错误\n",
    "for newfeature in ['PVP胜率','主动发起PVP的概率','玩家发育效率','氪金发育效率','玩家升级效率','氪金升级效率','象牙消耗率','科研加速使用率','训练加速使用率','建筑加速使用率','治疗加速使用率']:\n",
    "    X.loc[X[newfeature].isnull(),newfeature] = 0 #将所有的空值变为0\n",
    "    X.loc[X[newfeature] == float('inf'),newfeature] = 0 "
   ]
  },
  {
   "cell_type": "code",
   "execution_count": 86,
   "metadata": {},
   "outputs": [
    {
     "data": {
      "text/plain": [
       "0"
      ]
     },
     "execution_count": 86,
     "metadata": {},
     "output_type": "execute_result"
    }
   ],
   "source": [
    "X['玩家发育效率'].isnull().sum()"
   ]
  },
  {
   "cell_type": "code",
   "execution_count": 87,
   "metadata": {},
   "outputs": [
    {
     "data": {
      "text/plain": [
       "0"
      ]
     },
     "execution_count": 87,
     "metadata": {},
     "output_type": "execute_result"
    }
   ],
   "source": [
    "(X['氪金发育效率'] == float('inf')).sum()"
   ]
  },
  {
   "cell_type": "code",
   "execution_count": 88,
   "metadata": {},
   "outputs": [],
   "source": [
    "#高价值玩家，符合条件的被标注为1\n",
    "X['高价值氪金玩家'] = (X['付费金额']>=5.7).astype(int)\n",
    "X['高胜率玩家'] = (X['PVP胜率']>0.5).astype(int)\n",
    "X['高价值玩家'] = (X['建筑：要塞等级']>=10).astype(int)\n",
    "X['活跃玩家'] = (X['在线时长']>=20).astype(int)"
   ]
  },
  {
   "cell_type": "code",
   "execution_count": 89,
   "metadata": {},
   "outputs": [],
   "source": [
    "corr_list = pd.DataFrame()"
   ]
  },
  {
   "cell_type": "code",
   "execution_count": 90,
   "metadata": {},
   "outputs": [],
   "source": [
    "for idx,column in enumerate(X.columns):\n",
    "    corr_ = pd.concat([y,X.loc[:,column]],axis=1).corr().iloc[0,1]\n",
    "    corr_list.loc[idx,'特征'] = column\n",
    "    corr_list.loc[idx,'相关系数'] = corr_"
   ]
  },
  {
   "cell_type": "code",
   "execution_count": 91,
   "metadata": {},
   "outputs": [
    {
     "data": {
      "text/html": [
       "<div>\n",
       "<style scoped>\n",
       "    .dataframe tbody tr th:only-of-type {\n",
       "        vertical-align: middle;\n",
       "    }\n",
       "\n",
       "    .dataframe tbody tr th {\n",
       "        vertical-align: top;\n",
       "    }\n",
       "\n",
       "    .dataframe thead th {\n",
       "        text-align: right;\n",
       "    }\n",
       "</style>\n",
       "<table border=\"1\" class=\"dataframe\">\n",
       "  <thead>\n",
       "    <tr style=\"text-align: right;\">\n",
       "      <th></th>\n",
       "      <th>特征</th>\n",
       "      <th>相关系数</th>\n",
       "    </tr>\n",
       "  </thead>\n",
       "  <tbody>\n",
       "    <tr>\n",
       "      <th>104</th>\n",
       "      <td>付费金额</td>\n",
       "      <td>0.735</td>\n",
       "    </tr>\n",
       "    <tr>\n",
       "      <th>4</th>\n",
       "      <td>象牙获取数量</td>\n",
       "      <td>0.660</td>\n",
       "    </tr>\n",
       "    <tr>\n",
       "      <th>2</th>\n",
       "      <td>石头获取数量</td>\n",
       "      <td>0.651</td>\n",
       "    </tr>\n",
       "    <tr>\n",
       "      <th>0</th>\n",
       "      <td>木头获取数量</td>\n",
       "      <td>0.642</td>\n",
       "    </tr>\n",
       "    <tr>\n",
       "      <th>5</th>\n",
       "      <td>象牙消耗数量</td>\n",
       "      <td>0.642</td>\n",
       "    </tr>\n",
       "  </tbody>\n",
       "</table>\n",
       "</div>"
      ],
      "text/plain": [
       "         特征  相关系数\n",
       "104    付费金额 0.735\n",
       "4    象牙获取数量 0.660\n",
       "2    石头获取数量 0.651\n",
       "0    木头获取数量 0.642\n",
       "5    象牙消耗数量 0.642"
      ]
     },
     "execution_count": 91,
     "metadata": {},
     "output_type": "execute_result"
    }
   ],
   "source": [
    "corr_list.sort_values('相关系数',ascending=False).head()"
   ]
  },
  {
   "cell_type": "code",
   "execution_count": 92,
   "metadata": {},
   "outputs": [
    {
     "data": {
      "text/html": [
       "<div>\n",
       "<style scoped>\n",
       "    .dataframe tbody tr th:only-of-type {\n",
       "        vertical-align: middle;\n",
       "    }\n",
       "\n",
       "    .dataframe tbody tr th {\n",
       "        vertical-align: top;\n",
       "    }\n",
       "\n",
       "    .dataframe thead th {\n",
       "        text-align: right;\n",
       "    }\n",
       "</style>\n",
       "<table border=\"1\" class=\"dataframe\">\n",
       "  <thead>\n",
       "    <tr style=\"text-align: right;\">\n",
       "      <th></th>\n",
       "      <th>特征</th>\n",
       "      <th>相关系数</th>\n",
       "    </tr>\n",
       "  </thead>\n",
       "  <tbody>\n",
       "    <tr>\n",
       "      <th>106</th>\n",
       "      <td>玩家注册时刻</td>\n",
       "      <td>0.001</td>\n",
       "    </tr>\n",
       "  </tbody>\n",
       "</table>\n",
       "</div>"
      ],
      "text/plain": [
       "         特征  相关系数\n",
       "106  玩家注册时刻 0.001"
      ]
     },
     "execution_count": 92,
     "metadata": {},
     "output_type": "execute_result"
    }
   ],
   "source": [
    "corr_list[abs(corr_list['相关系数'])<0.01]"
   ]
  },
  {
   "cell_type": "code",
   "execution_count": 93,
   "metadata": {},
   "outputs": [
    {
     "name": "stdout",
     "output_type": "stream",
     "text": [
      "done\n",
      "done\n",
      "done\n",
      "done\n"
     ]
    }
   ],
   "source": [
    "#确定分割比例\n",
    "trainr2 = [] #训练集上的R2\n",
    "testr2 = [] #测试集上的R2\n",
    "testRMSE = [] #测试集上的RMSE\n",
    "for i in [0.2,0.3,0.4,0.5]:\n",
    "    Xtrain,Xtest,Ytrain,Ytest = TTS(X,y,test_size = i,random_state=0)\n",
    "    model = LR().fit(Xtrain,Ytrain)\n",
    "    trainr2.append(model.score(Xtrain,Ytrain))\n",
    "    testr2.append(model.score(Xtest,Ytest))\n",
    "    testRMSE.append(np.sqrt(MSE(Ytest,model.predict(Xtest))))\n",
    "    print('done')"
   ]
  },
  {
   "cell_type": "code",
   "execution_count": 94,
   "metadata": {},
   "outputs": [
    {
     "data": {
      "image/png": "[encoded data removed]",
      "text/plain": [
       "<Figure size 432x288 with 1 Axes>"
      ]
     },
     "metadata": {
      "needs_background": "light"
     },
     "output_type": "display_data"
    }
   ],
   "source": [
    "plt.plot(trainr2,label = 'trainR2')\n",
    "plt.plot(testr2,label = 'testR2')\n",
    "plt.xticks(ticks=[0,1,2,3],labels=[0.2,0.3,0.4,0.5])\n",
    "plt.yticks(np.linspace(0,0.8,11))\n",
    "plt.legend()\n",
    "plt.show()"
   ]
  },
  {
   "cell_type": "code",
   "execution_count": 95,
   "metadata": {},
   "outputs": [
    {
     "data": {
      "image/png": "[encoded data removed]",
      "text/plain": [
       "<Figure size 432x288 with 1 Axes>"
      ]
     },
     "metadata": {
      "needs_background": "light"
     },
     "output_type": "display_data"
    }
   ],
   "source": [
    "plt.plot(testRMSE)\n",
    "plt.xticks(ticks=[0,1,2,3],labels=[0.2,0.3,0.4,0.5])\n",
    "plt.show()"
   ]
  },
  {
   "cell_type": "code",
   "execution_count": 96,
   "metadata": {},
   "outputs": [
    {
     "data": {
      "text/plain": [
       "[71.85966742830828, 64.81359692409852, 60.09763706414232, 62.724550613997565]"
      ]
     },
     "execution_count": 96,
     "metadata": {},
     "output_type": "execute_result"
    }
   ],
   "source": [
    "testRMSE"
   ]
  },
  {
   "cell_type": "code",
   "execution_count": 97,
   "metadata": {},
   "outputs": [],
   "source": [
    "Xtrain,Xtest,Ytrain,Ytest = TTS(X,y,test_size=0.4,random_state=0)"
   ]
  },
  {
   "cell_type": "code",
   "execution_count": 98,
   "metadata": {},
   "outputs": [],
   "source": [
    "Ytrain = pd.DataFrame(Ytrain)\n",
    "Ytest = pd.DataFrame(Ytest)\n",
    "\n",
    "Ytrain.index = Xtrain.index\n",
    "Ytest.index = Xtest.index"
   ]
  },
  {
   "cell_type": "code",
   "execution_count": 99,
   "metadata": {},
   "outputs": [],
   "source": [
    "# 异常值处理"
   ]
  },
  {
   "cell_type": "code",
   "execution_count": 100,
   "metadata": {},
   "outputs": [],
   "source": [
    "def AbnormalReplace(Xtrain,Xtest):\n",
    "    #先对所有特征进行异常检测\n",
    "    #对7日内付过费的用户，不处理\n",
    "    #对7日内没付过费的用户，替换所有异常值为当前特征的中位数或者0\n",
    "    \n",
    "    Xtrain_ = Xtrain.copy()\n",
    "    Xtest_ = Xtest.copy()\n",
    "    for column in Xtrain_.columns:\n",
    "        #提取当前要检测的列\n",
    "        f_train = Xtrain_.loc[:,column]\n",
    "        f_test = Xtest_.loc[:,column]\n",
    "        \n",
    "        #从训练集中计算QL、QU、IQR、中位数\n",
    "        QL = np.quantile(f_train,0.25)\n",
    "        QU = np.quantile(f_train,0.75)\n",
    "        IQR = QU - QL\n",
    "        medium_ = f_train.median()\n",
    "        \n",
    "        #对训练集和测试集同时进行检测，得到Ture/False列表\n",
    "        errortrain = ((f_train < (QL-1.5*IQR)).astype(int) + (f_train > (QU+1.5*IQR)).astype(int)) != 0\n",
    "        errortest = ((f_test < (QL-1.5*IQR)).astype(int) + (f_test > (QU+1.5*IQR)).astype(int)) != 0\n",
    "        \n",
    "        #将原矩阵中的异常值替换为中位数，主题排除7日付费用户\n",
    "        #如果效果不够强烈，替换为0\n",
    "        Xtrain_.loc[((Xtrain_['付费金额']==0).values & errortrain.values),column] = 0#medium_\n",
    "        Xtest_.loc[((Xtest_['付费金额']==0).values & errortest.values),column] = 0#medium_\n",
    "    \n",
    "    return Xtrain_,Xtest_"
   ]
  },
  {
   "cell_type": "code",
   "execution_count": 101,
   "metadata": {},
   "outputs": [],
   "source": [
    "xtrain,xtest = AbnormalReplace(Xtrain,Xtest)"
   ]
  },
  {
   "cell_type": "code",
   "execution_count": 102,
   "metadata": {},
   "outputs": [],
   "source": [
    "# 归一化处理\n",
    "from sklearn.preprocessing import MinMaxScaler\n",
    "mm = MinMaxScaler(feature_range=[0,1])\n",
    "mm = mm.fit(xtrain)"
   ]
  },
  {
   "cell_type": "code",
   "execution_count": 103,
   "metadata": {},
   "outputs": [],
   "source": [
    "xtrain = mm.transform(xtrain)"
   ]
  },
  {
   "cell_type": "code",
   "execution_count": 104,
   "metadata": {},
   "outputs": [],
   "source": [
    "xtest = mm.transform(xtest)"
   ]
  },
  {
   "cell_type": "code",
   "execution_count": 105,
   "metadata": {},
   "outputs": [],
   "source": [
    "# 模型融合\n",
    "# 氪金用户转化为1，不氪金用户转化为0\n",
    "y2 = (y!=0).astype(int)"
   ]
  },
  {
   "cell_type": "code",
   "execution_count": 106,
   "metadata": {},
   "outputs": [
    {
     "data": {
      "text/plain": [
       "0    2242019\n",
       "1      45987\n",
       "Name: 45日付费金额, dtype: int64"
      ]
     },
     "execution_count": 106,
     "metadata": {},
     "output_type": "execute_result"
    }
   ],
   "source": [
    "y2.value_counts()"
   ]
  },
  {
   "cell_type": "code",
   "execution_count": 107,
   "metadata": {},
   "outputs": [],
   "source": [
    "# 创造ytrain2和ytest2\n",
    "# 以Xrain,Xtest的分割方式来分割y2，这样y2就是与Ytrain相匹配的\n",
    "Ytrain2 = y2[Xtrain.index]"
   ]
  },
  {
   "cell_type": "code",
   "execution_count": 108,
   "metadata": {},
   "outputs": [],
   "source": [
    "Ytest2 = y2[Xtest.index]"
   ]
  },
  {
   "cell_type": "code",
   "execution_count": 109,
   "metadata": {},
   "outputs": [],
   "source": [
    "# 使用逻辑回归进行建模并使用ROC进行评估\n",
    "from sklearn.linear_model import LogisticRegression as LogiR\n",
    "from sklearn.metrics import roc_auc_score as ROC\n",
    "from sklearn.metrics import recall_score as Recall#召回\n",
    "from sklearn.metrics import precision_score as Precision"
   ]
  },
  {
   "cell_type": "code",
   "execution_count": 110,
   "metadata": {},
   "outputs": [],
   "source": [
    "clf = LogiR(random_state=0)"
   ]
  },
  {
   "cell_type": "code",
   "execution_count": 111,
   "metadata": {},
   "outputs": [
    {
     "name": "stderr",
     "output_type": "stream",
     "text": [
      "D:\\anaconda\\lib\\site-packages\\sklearn\\linear_model\\_logistic.py:814: ConvergenceWarning: lbfgs failed to converge (status=1):\n",
      "STOP: TOTAL NO. of ITERATIONS REACHED LIMIT.\n",
      "\n",
      "Increase the number of iterations (max_iter) or scale the data as shown in:\n",
      "    https://scikit-learn.org/stable/modules/preprocessing.html\n",
      "Please also refer to the documentation for alternative solver options:\n",
      "    https://scikit-learn.org/stable/modules/linear_model.html#logistic-regression\n",
      "  n_iter_i = _check_optimize_result(\n"
     ]
    },
    {
     "data": {
      "text/plain": [
       "LogisticRegression(random_state=0)"
      ]
     },
     "execution_count": 111,
     "metadata": {},
     "output_type": "execute_result"
    }
   ],
   "source": [
    "clf.fit(xtrain,Ytrain2)"
   ]
  },
  {
   "cell_type": "code",
   "execution_count": 112,
   "metadata": {},
   "outputs": [
    {
     "data": {
      "text/plain": [
       "0.997103735932978"
      ]
     },
     "execution_count": 112,
     "metadata": {},
     "output_type": "execute_result"
    }
   ],
   "source": [
    "clf.score(xtrain,Ytrain2)"
   ]
  },
  {
   "cell_type": "code",
   "execution_count": 113,
   "metadata": {},
   "outputs": [
    {
     "data": {
      "text/plain": [
       "0.9971164867248031"
      ]
     },
     "execution_count": 113,
     "metadata": {},
     "output_type": "execute_result"
    }
   ],
   "source": [
    "clf.score(xtest,Ytest2)"
   ]
  },
  {
   "cell_type": "code",
   "execution_count": 114,
   "metadata": {},
   "outputs": [
    {
     "data": {
      "text/plain": [
       "array([0.00592545, 0.00141073, 0.0014266 , ..., 0.00144772, 0.00340139,\n",
       "       0.00241751])"
      ]
     },
     "execution_count": 114,
     "metadata": {},
     "output_type": "execute_result"
    }
   ],
   "source": [
    "# 测试集的拟合情况\n",
    "y2_proba = clf.predict_proba(xtest)#找出逻辑回归在测试集上对每个样本预测的概率\n",
    "y2_proba[:,1]#提取出为1的概率"
   ]
  },
  {
   "cell_type": "code",
   "execution_count": 115,
   "metadata": {},
   "outputs": [
    {
     "data": {
      "text/plain": [
       "0.9688024253260042"
      ]
     },
     "execution_count": 115,
     "metadata": {},
     "output_type": "execute_result"
    }
   ],
   "source": [
    "ROC(Ytest2,y2_proba[:,1])"
   ]
  },
  {
   "cell_type": "code",
   "execution_count": 116,
   "metadata": {},
   "outputs": [
    {
     "data": {
      "text/plain": [
       "0.8564824885795084"
      ]
     },
     "execution_count": 116,
     "metadata": {},
     "output_type": "execute_result"
    }
   ],
   "source": [
    "Recall(Ytest2,clf.predict(xtest))"
   ]
  },
  {
   "cell_type": "code",
   "execution_count": 117,
   "metadata": {},
   "outputs": [
    {
     "data": {
      "text/plain": [
       "1.0"
      ]
     },
     "execution_count": 117,
     "metadata": {},
     "output_type": "execute_result"
    }
   ],
   "source": [
    "Precision(Ytest2,clf.predict(xtest))"
   ]
  },
  {
   "cell_type": "code",
   "execution_count": 118,
   "metadata": {},
   "outputs": [
    {
     "data": {
      "text/plain": [
       "15749"
      ]
     },
     "execution_count": 118,
     "metadata": {},
     "output_type": "execute_result"
    }
   ],
   "source": [
    "(y2_proba[:,1]>0.5).sum()"
   ]
  },
  {
   "cell_type": "code",
   "execution_count": 119,
   "metadata": {},
   "outputs": [
    {
     "data": {
      "text/plain": [
       "45日付费金额    18388\n",
       "dtype: int64"
      ]
     },
     "execution_count": 119,
     "metadata": {},
     "output_type": "execute_result"
    }
   ],
   "source": [
    "(Ytest!=0).sum()"
   ]
  },
  {
   "cell_type": "code",
   "execution_count": 120,
   "metadata": {},
   "outputs": [],
   "source": [
    "# 找出模型之前预测的1类概率\n",
    "prob = y2_proba[:,1]"
   ]
  },
  {
   "cell_type": "code",
   "execution_count": 121,
   "metadata": {},
   "outputs": [
    {
     "data": {
      "text/plain": [
       "array([0, 0, 0, ..., 0, 0, 0])"
      ]
     },
     "execution_count": 121,
     "metadata": {},
     "output_type": "execute_result"
    }
   ],
   "source": [
    "#尝试更换阈值\n",
    "(prob > 0.3).astype(int)"
   ]
  },
  {
   "cell_type": "code",
   "execution_count": 122,
   "metadata": {},
   "outputs": [
    {
     "name": "stdout",
     "output_type": "stream",
     "text": [
      "0.000Recall:1.000\n",
      "0.026Recall:0.904\n",
      "0.053Recall:0.879\n",
      "0.079Recall:0.868\n",
      "0.105Recall:0.866\n",
      "0.132Recall:0.865\n",
      "0.158Recall:0.864\n",
      "0.184Recall:0.864\n",
      "0.211Recall:0.863\n",
      "0.237Recall:0.863\n",
      "0.263Recall:0.863\n",
      "0.289Recall:0.862\n",
      "0.316Recall:0.861\n",
      "0.342Recall:0.860\n",
      "0.368Recall:0.860\n",
      "0.395Recall:0.859\n",
      "0.421Recall:0.859\n",
      "0.447Recall:0.858\n",
      "0.474Recall:0.857\n",
      "0.500Recall:0.856\n"
     ]
    }
   ],
   "source": [
    "for tol in np.linspace(0,0.5,20):\n",
    "    pred = (prob >= tol).astype(int)\n",
    "    recall = Recall(Ytest2,pred)\n",
    "    print(\"{:.3f}Recall:{:.3f}\".format(tol,recall))"
   ]
  },
  {
   "cell_type": "code",
   "execution_count": 123,
   "metadata": {},
   "outputs": [
    {
     "name": "stdout",
     "output_type": "stream",
     "text": [
      "0.000Recall:1.000\n",
      "0.001Recall:0.979\n",
      "0.003Recall:0.953\n",
      "0.004Recall:0.946\n",
      "0.005Recall:0.940\n",
      "0.007Recall:0.936\n",
      "0.008Recall:0.931\n",
      "0.010Recall:0.927\n",
      "0.011Recall:0.923\n",
      "0.012Recall:0.921\n",
      "0.014Recall:0.919\n",
      "0.015Recall:0.917\n",
      "0.016Recall:0.915\n",
      "0.018Recall:0.914\n",
      "0.019Recall:0.912\n",
      "0.021Recall:0.912\n",
      "0.022Recall:0.911\n",
      "0.023Recall:0.909\n",
      "0.025Recall:0.906\n",
      "0.026Recall:0.905\n"
     ]
    }
   ],
   "source": [
    "for tol in np.linspace(0,0.026,20):\n",
    "    pred = (prob >= tol).astype(int)\n",
    "    recall = Recall(Ytest2,pred)\n",
    "    print(\"{:.3f}Recall:{:.3f}\".format(tol,recall))"
   ]
  },
  {
   "cell_type": "code",
   "execution_count": 124,
   "metadata": {},
   "outputs": [
    {
     "data": {
      "text/plain": [
       "31522"
      ]
     },
     "execution_count": 124,
     "metadata": {},
     "output_type": "execute_result"
    }
   ],
   "source": [
    "# 经过之后的RMSE判断，0.02是个比较合适的值\n",
    "tol_=0.02\n",
    "# 在0.02阈值下，逻辑回归预测了测试集中多少样本为1\n",
    "(y2_proba[:,1]>=tol_).sum()"
   ]
  },
  {
   "cell_type": "code",
   "execution_count": 125,
   "metadata": {},
   "outputs": [
    {
     "data": {
      "text/plain": [
       "47392"
      ]
     },
     "execution_count": 125,
     "metadata": {},
     "output_type": "execute_result"
    }
   ],
   "source": [
    "#训练集中多少样本被预测为1\n",
    "(clf.predict_proba(xtrain)[:,1]>=tol_).sum()"
   ]
  },
  {
   "cell_type": "code",
   "execution_count": 126,
   "metadata": {},
   "outputs": [],
   "source": [
    "# 对于所有不氪金的样本，预测到此结束——y=0\n",
    "result = pd.DataFrame(y2_proba[:,1],index=Xtest.index)\n",
    "result.columns = ['logi_proba']\n",
    "result['logi_y_pred'] = (result['logi_proba']>=tol_).astype(int)"
   ]
  },
  {
   "cell_type": "code",
   "execution_count": 127,
   "metadata": {},
   "outputs": [
    {
     "data": {
      "text/html": [
       "<div>\n",
       "<style scoped>\n",
       "    .dataframe tbody tr th:only-of-type {\n",
       "        vertical-align: middle;\n",
       "    }\n",
       "\n",
       "    .dataframe tbody tr th {\n",
       "        vertical-align: top;\n",
       "    }\n",
       "\n",
       "    .dataframe thead th {\n",
       "        text-align: right;\n",
       "    }\n",
       "</style>\n",
       "<table border=\"1\" class=\"dataframe\">\n",
       "  <thead>\n",
       "    <tr style=\"text-align: right;\">\n",
       "      <th></th>\n",
       "      <th>logi_train_proba</th>\n",
       "      <th>logi_y_pred_train</th>\n",
       "    </tr>\n",
       "  </thead>\n",
       "  <tbody>\n",
       "    <tr>\n",
       "      <th>1914412</th>\n",
       "      <td>0.001</td>\n",
       "      <td>0</td>\n",
       "    </tr>\n",
       "    <tr>\n",
       "      <th>188838</th>\n",
       "      <td>0.001</td>\n",
       "      <td>0</td>\n",
       "    </tr>\n",
       "    <tr>\n",
       "      <th>1879427</th>\n",
       "      <td>0.001</td>\n",
       "      <td>0</td>\n",
       "    </tr>\n",
       "    <tr>\n",
       "      <th>1616849</th>\n",
       "      <td>0.002</td>\n",
       "      <td>0</td>\n",
       "    </tr>\n",
       "    <tr>\n",
       "      <th>2046255</th>\n",
       "      <td>0.002</td>\n",
       "      <td>0</td>\n",
       "    </tr>\n",
       "  </tbody>\n",
       "</table>\n",
       "</div>"
      ],
      "text/plain": [
       "         logi_train_proba  logi_y_pred_train\n",
       "1914412             0.001                  0\n",
       "188838              0.001                  0\n",
       "1879427             0.001                  0\n",
       "1616849             0.002                  0\n",
       "2046255             0.002                  0"
      ]
     },
     "execution_count": 127,
     "metadata": {},
     "output_type": "execute_result"
    }
   ],
   "source": [
    "# 训练集，同样索引需要导入\n",
    "logi_train_result = pd.DataFrame(clf.predict_proba(xtrain)[:,1],index=Xtrain.index)\n",
    "logi_train_result.columns = ['logi_train_proba']\n",
    "logi_train_result['logi_y_pred_train'] = (logi_train_result['logi_train_proba']>=tol_).astype(int)\n",
    "logi_train_result.head()"
   ]
  },
  {
   "cell_type": "code",
   "execution_count": 128,
   "metadata": {},
   "outputs": [],
   "source": [
    "# 选出应该放在线性回归中的训练集和测试集\n",
    "# 训练集\n",
    "xtrain_linear_reg = xtrain[logi_train_result['logi_y_pred_train'] == 1]\n",
    "ytrain_linear_reg = Ytrain[logi_train_result['logi_y_pred_train'] == 1]"
   ]
  },
  {
   "cell_type": "code",
   "execution_count": 129,
   "metadata": {},
   "outputs": [],
   "source": [
    "# 测试集\n",
    "xtest_linear_reg = xtest[result['logi_y_pred'] == 1]\n",
    "ytest_linear_reg = Ytest[result['logi_y_pred'] == 1]"
   ]
  },
  {
   "cell_type": "code",
   "execution_count": 130,
   "metadata": {},
   "outputs": [],
   "source": [
    "# 开始回归预测\n",
    "def reg_predict(model):\n",
    "    reg = model.fit(xtrain_linear_reg,ytrain_linear_reg)\n",
    "    y_linear_pred = reg.predict(xtest_linear_reg)#对测试集进行预测\n",
    "    print('训练集R2:{:.3f}'.format(reg.score(xtrain_linear_reg,ytrain_linear_reg)))\n",
    "    print('测试集R2:{:.3f}'.format(reg.score(xtest_linear_reg,ytest_linear_reg)))\n",
    "    print('测试集RMSE:{:.3f}'.format(np.sqrt(MSE(ytest_linear_reg,y_linear_pred))))\n",
    "    return y_linear_pred #融合模型测试出结果中的回归部分"
   ]
  },
  {
   "cell_type": "code",
   "execution_count": 131,
   "metadata": {},
   "outputs": [
    {
     "name": "stdout",
     "output_type": "stream",
     "text": [
      "训练集R2:0.573\n",
      "测试集R2:0.545\n",
      "测试集RMSE:310.519\n"
     ]
    }
   ],
   "source": [
    "#线性回归\n",
    "reg0 = LR()\n",
    "y_linear_pred0 = reg_predict(reg0)"
   ]
  },
  {
   "cell_type": "code",
   "execution_count": 132,
   "metadata": {},
   "outputs": [],
   "source": [
    "from sklearn.ensemble import RandomForestRegressor as RFR\n",
    "from sklearn.ensemble import GradientBoostingRegressor as GBR"
   ]
  },
  {
   "cell_type": "code",
   "execution_count": 133,
   "metadata": {},
   "outputs": [],
   "source": [
    "reg1 = RFR(n_estimators=100,max_depth=2,max_features=20,random_state=1412)\n",
    "reg2 = GBR(n_estimators=100,max_depth=2,max_features=20,random_state=1412) "
   ]
  },
  {
   "cell_type": "code",
   "execution_count": 134,
   "metadata": {},
   "outputs": [
    {
     "name": "stderr",
     "output_type": "stream",
     "text": [
      "<ipython-input-130-6386219ef9c2>:3: DataConversionWarning: A column-vector y was passed when a 1d array was expected. Please change the shape of y to (n_samples,), for example using ravel().\n",
      "  reg = model.fit(xtrain_linear_reg,ytrain_linear_reg)\n"
     ]
    },
    {
     "name": "stdout",
     "output_type": "stream",
     "text": [
      "训练集R2:0.500\n",
      "测试集R2:0.471\n",
      "测试集RMSE:334.599\n"
     ]
    }
   ],
   "source": [
    "y_linear_pred1 = reg_predict(reg1)"
   ]
  },
  {
   "cell_type": "code",
   "execution_count": 135,
   "metadata": {},
   "outputs": [
    {
     "name": "stderr",
     "output_type": "stream",
     "text": [
      "D:\\anaconda\\lib\\site-packages\\sklearn\\ensemble\\_gb.py:494: DataConversionWarning: A column-vector y was passed when a 1d array was expected. Please change the shape of y to (n_samples, ), for example using ravel().\n",
      "  y = column_or_1d(y, warn=True)\n"
     ]
    },
    {
     "name": "stdout",
     "output_type": "stream",
     "text": [
      "训练集R2:0.720\n",
      "测试集R2:0.562\n",
      "测试集RMSE:304.471\n"
     ]
    }
   ],
   "source": [
    "y_linear_pred2 = reg_predict(reg2)"
   ]
  },
  {
   "cell_type": "code",
   "execution_count": 277,
   "metadata": {},
   "outputs": [
    {
     "name": "stderr",
     "output_type": "stream",
     "text": [
      "D:\\anaconda\\lib\\site-packages\\sklearn\\ensemble\\_gb.py:494: DataConversionWarning: A column-vector y was passed when a 1d array was expected. Please change the shape of y to (n_samples, ), for example using ravel().\n",
      "  y = column_or_1d(y, warn=True)\n"
     ]
    },
    {
     "name": "stdout",
     "output_type": "stream",
     "text": [
      "训练集R2:0.765\n",
      "测试集R2:0.595\n",
      "测试集RMSE:292.988\n"
     ]
    }
   ],
   "source": [
    "reg2 = GBR(n_estimators= 330,max_depth=2,random_state=1412,learning_rate=0.05,max_features=50,min_samples_split=15)\n",
    "y_linear_pred2 = reg_predict(reg2)"
   ]
  },
  {
   "cell_type": "code",
   "execution_count": 278,
   "metadata": {},
   "outputs": [],
   "source": [
    "# 将GBDT与逻辑回归的预测值合并\n",
    "# 创建新列，全部为0\n",
    "result['reg_result'] = 0"
   ]
  },
  {
   "cell_type": "code",
   "execution_count": 279,
   "metadata": {},
   "outputs": [],
   "source": [
    "# 将逻辑回归的预测标签为1的样本提出来，对所有这些样本的'reg_result'回归结果列填入回归预测结果y_linear_pred2\n",
    "result.loc[result['logi_y_pred'] == 1,'reg_result'] = y_linear_pred2"
   ]
  },
  {
   "cell_type": "code",
   "execution_count": 280,
   "metadata": {},
   "outputs": [
    {
     "data": {
      "text/html": [
       "<div>\n",
       "<style scoped>\n",
       "    .dataframe tbody tr th:only-of-type {\n",
       "        vertical-align: middle;\n",
       "    }\n",
       "\n",
       "    .dataframe tbody tr th {\n",
       "        vertical-align: top;\n",
       "    }\n",
       "\n",
       "    .dataframe thead th {\n",
       "        text-align: right;\n",
       "    }\n",
       "</style>\n",
       "<table border=\"1\" class=\"dataframe\">\n",
       "  <thead>\n",
       "    <tr style=\"text-align: right;\">\n",
       "      <th></th>\n",
       "      <th>logi_proba</th>\n",
       "      <th>logi_y_pred</th>\n",
       "      <th>reg_result</th>\n",
       "    </tr>\n",
       "  </thead>\n",
       "  <tbody>\n",
       "    <tr>\n",
       "      <th>660869</th>\n",
       "      <td>0.006</td>\n",
       "      <td>0</td>\n",
       "      <td>0.000</td>\n",
       "    </tr>\n",
       "    <tr>\n",
       "      <th>1002543</th>\n",
       "      <td>0.001</td>\n",
       "      <td>0</td>\n",
       "      <td>0.000</td>\n",
       "    </tr>\n",
       "    <tr>\n",
       "      <th>2275758</th>\n",
       "      <td>0.001</td>\n",
       "      <td>0</td>\n",
       "      <td>0.000</td>\n",
       "    </tr>\n",
       "    <tr>\n",
       "      <th>961802</th>\n",
       "      <td>0.001</td>\n",
       "      <td>0</td>\n",
       "      <td>0.000</td>\n",
       "    </tr>\n",
       "    <tr>\n",
       "      <th>793236</th>\n",
       "      <td>0.004</td>\n",
       "      <td>0</td>\n",
       "      <td>0.000</td>\n",
       "    </tr>\n",
       "  </tbody>\n",
       "</table>\n",
       "</div>"
      ],
      "text/plain": [
       "         logi_proba  logi_y_pred  reg_result\n",
       "660869        0.006            0       0.000\n",
       "1002543       0.001            0       0.000\n",
       "2275758       0.001            0       0.000\n",
       "961802        0.001            0       0.000\n",
       "793236        0.004            0       0.000"
      ]
     },
     "execution_count": 280,
     "metadata": {},
     "output_type": "execute_result"
    }
   ],
   "source": [
    "result.head()"
   ]
  },
  {
   "cell_type": "code",
   "execution_count": 281,
   "metadata": {},
   "outputs": [
    {
     "data": {
      "text/html": [
       "<div>\n",
       "<style scoped>\n",
       "    .dataframe tbody tr th:only-of-type {\n",
       "        vertical-align: middle;\n",
       "    }\n",
       "\n",
       "    .dataframe tbody tr th {\n",
       "        vertical-align: top;\n",
       "    }\n",
       "\n",
       "    .dataframe thead th {\n",
       "        text-align: right;\n",
       "    }\n",
       "</style>\n",
       "<table border=\"1\" class=\"dataframe\">\n",
       "  <thead>\n",
       "    <tr style=\"text-align: right;\">\n",
       "      <th></th>\n",
       "      <th>45日付费金额</th>\n",
       "    </tr>\n",
       "  </thead>\n",
       "  <tbody>\n",
       "    <tr>\n",
       "      <th>660869</th>\n",
       "      <td>0.000</td>\n",
       "    </tr>\n",
       "    <tr>\n",
       "      <th>1002543</th>\n",
       "      <td>0.000</td>\n",
       "    </tr>\n",
       "    <tr>\n",
       "      <th>2275758</th>\n",
       "      <td>0.000</td>\n",
       "    </tr>\n",
       "    <tr>\n",
       "      <th>961802</th>\n",
       "      <td>0.000</td>\n",
       "    </tr>\n",
       "    <tr>\n",
       "      <th>793236</th>\n",
       "      <td>0.000</td>\n",
       "    </tr>\n",
       "  </tbody>\n",
       "</table>\n",
       "</div>"
      ],
      "text/plain": [
       "         45日付费金额\n",
       "660869     0.000\n",
       "1002543    0.000\n",
       "2275758    0.000\n",
       "961802     0.000\n",
       "793236     0.000"
      ]
     },
     "execution_count": 281,
     "metadata": {},
     "output_type": "execute_result"
    }
   ],
   "source": [
    "# 确认索引一致\n",
    "Ytest.head()"
   ]
  },
  {
   "cell_type": "code",
   "execution_count": 282,
   "metadata": {},
   "outputs": [
    {
     "data": {
      "text/plain": [
       "55.15942698309719"
      ]
     },
     "execution_count": 282,
     "metadata": {},
     "output_type": "execute_result"
    }
   ],
   "source": [
    "np.sqrt(MSE(Ytest,result['reg_result']))"
   ]
  },
  {
   "cell_type": "code",
   "execution_count": 283,
   "metadata": {},
   "outputs": [],
   "source": [
    "FeatureImportance = pd.concat([pd.DataFrame(Xtrain.columns),pd.DataFrame(reg2.feature_importances_)],axis=1)"
   ]
  },
  {
   "cell_type": "code",
   "execution_count": 284,
   "metadata": {},
   "outputs": [],
   "source": [
    "A = FeatureImportance.sort_values(0,ascending=False)\n",
    "B = A[A[0]>0.005]"
   ]
  },
  {
   "cell_type": "code",
   "execution_count": 285,
   "metadata": {},
   "outputs": [
    {
     "data": {
      "image/png": "[encoded data removed]",
      "text/plain": [
       "<Figure size 2400x800 with 1 Axes>"
      ]
     },
     "metadata": {
      "needs_background": "light"
     },
     "output_type": "display_data"
    }
   ],
   "source": [
    "plt.figure(figsize=(12,4), dpi=200)\n",
    "plt.bar(B['字段解释'],B[0],color='skyblue')\n",
    "plt.xticks(rotation=60)\n",
    "plt.show()"
   ]
  },
  {
   "cell_type": "code",
   "execution_count": null,
   "metadata": {},
   "outputs": [],
   "source": []
  },
  {
   "cell_type": "code",
   "execution_count": null,
   "metadata": {},
   "outputs": [],
   "source": []
  },
  {
   "cell_type": "code",
   "execution_count": null,
   "metadata": {},
   "outputs": [],
   "source": []
  },
  {
   "cell_type": "code",
   "execution_count": null,
   "metadata": {},
   "outputs": [],
   "source": []
  }
 ],
 "metadata": {
  "kernelspec": {
   "display_name": "Python 3",
   "language": "python",
   "name": "python3"
  },
  "language_info": {
   "codemirror_mode": {
    "name": "ipython",
    "version": 3
   },
   "file_extension": ".py",
   "mimetype": "text/x-python",
   "name": "python",
   "nbconvert_exporter": "python",
   "pygments_lexer": "ipython3",
   "version": "3.8.5"
  }
 },
 "nbformat": 4,
 "nbformat_minor": 4
}
